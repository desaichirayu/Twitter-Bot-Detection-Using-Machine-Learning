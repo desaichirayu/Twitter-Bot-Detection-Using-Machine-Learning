{
 "cells": [
  {
   "cell_type": "code",
   "execution_count": 1,
   "metadata": {},
   "outputs": [],
   "source": [
    "import pandas as pd\n",
    "import numpy as np\n",
    "import warnings\n",
    "warnings.filterwarnings(\"ignore\")\n",
    "\n",
    "suser_ds1_full = pd.read_csv(\"/Users/ruchitha/Desktop/ML_Project/cresci-2017.csv/datasets_full.csv/all_users/spam_users_1.csv\");\n",
    "suser_ds1= suser_ds1_full[[\"id\", \"name\", \"screen_name\", \"statuses_count\", \"followers_count\", \"friends_count\", \"lang\", \"default_profile\", \"protected\", \"verified\", \"description\", \"contributors_enabled\"]].copy()\n",
    "\n",
    "suser_ds2_full = pd.read_csv(\"/Users/ruchitha/Desktop/ML_Project/cresci-2017.csv/datasets_full.csv/all_users/spam_users_2.csv\");\n",
    "suser_ds2 = suser_ds2_full[[\"id\", \"name\", \"screen_name\", \"statuses_count\", \"followers_count\", \"friends_count\", \"lang\", \"default_profile\", \"protected\", \"verified\", \"description\", \"contributors_enabled\"]].copy()\n",
    "\n",
    "suser_ds3_full = pd.read_csv(\"/Users/ruchitha/Desktop/ML_Project/cresci-2017.csv/datasets_full.csv/all_users/spam_users_3.csv\");\n",
    "suser_ds3 = suser_ds3_full[[\"id\", \"name\", \"screen_name\", \"statuses_count\", \"followers_count\", \"friends_count\", \"lang\", \"default_profile\", \"protected\", \"verified\", \"description\", \"contributors_enabled\"]].copy()\n",
    "\n",
    "guser_ds1_full = pd.read_csv(\"/Users/ruchitha/Desktop/ML_Project/cresci-2017.csv/datasets_full.csv/all_users/genuine_users.csv\");\n",
    "guser_ds1 = guser_ds1_full[[\"id\", \"name\", \"screen_name\", \"statuses_count\", \"followers_count\", \"friends_count\", \"lang\", \"default_profile\", \"protected\", \"verified\", \"description\", \"contributors_enabled\"]].copy()\n",
    "\n",
    "tuser_ds1_full = pd.read_csv(\"/Users/ruchitha/Desktop/ML_Project/cresci-2017.csv/datasets_full.csv/all_users/traditional_users_1.csv\");\n",
    "tuser_ds1 = tuser_ds1_full[[\"id\", \"name\", \"screen_name\", \"statuses_count\", \"followers_count\", \"friends_count\", \"lang\", \"default_profile\", \"protected\", \"verified\", \"description\", \"contributors_enabled\"]].copy()\n",
    "\n",
    "\n",
    "stweet_ds1_full = pd.read_csv(\"/Users/ruchitha/Desktop/ML_Project/cresci-2017.csv/datasets_full.csv/all_tweets/spam_tweets_1.csv\");\n",
    "# stweet_ds1 = stweet_ds1_full[[\"id\", \"name\", \"screen_name\", \"statuses_count\", \"followers_count\", \"friends_count\", \"lang\", \"default_profile\", \"protected\", \"verified\", \"description\", \"contributors_enabled\"]].copy()\n",
    "\n",
    "stweet_ds2_full = pd.read_csv(\"/Users/ruchitha/Desktop/ML_Project/cresci-2017.csv/datasets_full.csv/all_tweets/spam_tweets_2.csv\");\n",
    "# stweet_ds2 = stweet_ds2_full[[\"id\", \"name\", \"screen_name\", \"statuses_count\", \"followers_count\", \"friends_count\", \"lang\", \"default_profile\", \"protected\", \"verified\", \"description\", \"contributors_enabled\"]].copy()\n",
    "\n",
    "stweet_ds2_full = pd.read_csv(\"/Users/ruchitha/Desktop/ML_Project/cresci-2017.csv/datasets_full.csv/all_tweets/spam_tweets_3.csv\");\n",
    "# stweet_ds2 = stweet_ds2_full[[\"id\", \"name\", \"screen_name\", \"statuses_count\", \"followers_count\", \"friends_count\", \"lang\", \"default_profile\", \"protected\", \"verified\", \"description\", \"contributors_enabled\"]].copy()\n",
    "\n",
    "gtweet_ds1_full = pd.read_csv(\"/Users/ruchitha/Desktop/ML_Project/cresci-2017.csv/datasets_full.csv/all_tweets/genuine_tweets.csv\");\n",
    "# gtweet_ds1 = gtweet_ds1_full[[\"id\", \"name\", \"screen_name\", \"statuses_count\", \"followers_count\", \"friends_count\", \"lang\", \"default_profile\", \"protected\", \"verified\", \"description\", \"contributors_enabled\"]].copy()\n",
    "\n",
    "ttweet_ds1_full = pd.read_csv(\"/Users/ruchitha/Desktop/ML_Project/cresci-2017.csv/datasets_full.csv/all_tweets/traditional_tweets_1.csv\");\n",
    "# ttweet_ds1 = ttweet_ds1_full[[\"id\", \"name\", \"screen_name\", \"statuses_count\", \"followers_count\", \"friends_count\", \"lang\", \"default_profile\", \"protected\", \"verified\", \"description\", \"contributors_enabled\"]].copy()\n",
    "\n",
    "\n"
   ]
  },
  {
   "cell_type": "code",
   "execution_count": 2,
   "metadata": {},
   "outputs": [
    {
     "data": {
      "text/html": [
       "<div>\n",
       "<style scoped>\n",
       "    .dataframe tbody tr th:only-of-type {\n",
       "        vertical-align: middle;\n",
       "    }\n",
       "\n",
       "    .dataframe tbody tr th {\n",
       "        vertical-align: top;\n",
       "    }\n",
       "\n",
       "    .dataframe thead th {\n",
       "        text-align: right;\n",
       "    }\n",
       "</style>\n",
       "<table border=\"1\" class=\"dataframe\">\n",
       "  <thead>\n",
       "    <tr style=\"text-align: right;\">\n",
       "      <th></th>\n",
       "      <th>id</th>\n",
       "      <th>text</th>\n",
       "      <th>source</th>\n",
       "      <th>user_id</th>\n",
       "      <th>truncated</th>\n",
       "      <th>in_reply_to_status_id</th>\n",
       "      <th>in_reply_to_user_id</th>\n",
       "      <th>in_reply_to_screen_name</th>\n",
       "      <th>retweeted_status_id</th>\n",
       "      <th>geo</th>\n",
       "      <th>...</th>\n",
       "      <th>favorited</th>\n",
       "      <th>retweeted</th>\n",
       "      <th>possibly_sensitive</th>\n",
       "      <th>num_hashtags</th>\n",
       "      <th>num_urls</th>\n",
       "      <th>num_mentions</th>\n",
       "      <th>created_at</th>\n",
       "      <th>timestamp</th>\n",
       "      <th>crawled_at</th>\n",
       "      <th>updated</th>\n",
       "    </tr>\n",
       "  </thead>\n",
       "  <tbody>\n",
       "    <tr>\n",
       "      <th>0</th>\n",
       "      <td>532627591686275072</td>\n",
       "      <td>I Pooh - In silenzio 1968 http://t.co/ahvQxUqTws</td>\n",
       "      <td>&lt;a href=\"http://www.facebook.com/twitter\" rel=...</td>\n",
       "      <td>24858289</td>\n",
       "      <td>NaN</td>\n",
       "      <td>0</td>\n",
       "      <td>0</td>\n",
       "      <td>NaN</td>\n",
       "      <td>0</td>\n",
       "      <td>NaN</td>\n",
       "      <td>...</td>\n",
       "      <td>NaN</td>\n",
       "      <td>NaN</td>\n",
       "      <td>NaN</td>\n",
       "      <td>0</td>\n",
       "      <td>1</td>\n",
       "      <td>0</td>\n",
       "      <td>Wed Nov 12 20:14:48 +0000 2014</td>\n",
       "      <td>2014-11-12 21:14:48</td>\n",
       "      <td>2014-11-12 21:44:09</td>\n",
       "      <td>2014-11-12 21:44:09</td>\n",
       "    </tr>\n",
       "    <tr>\n",
       "      <th>1</th>\n",
       "      <td>532624255058706432</td>\n",
       "      <td>http://t.co/HyI5EQKz6Q</td>\n",
       "      <td>&lt;a href=\"http://www.facebook.com/twitter\" rel=...</td>\n",
       "      <td>24858289</td>\n",
       "      <td>NaN</td>\n",
       "      <td>0</td>\n",
       "      <td>0</td>\n",
       "      <td>NaN</td>\n",
       "      <td>0</td>\n",
       "      <td>NaN</td>\n",
       "      <td>...</td>\n",
       "      <td>NaN</td>\n",
       "      <td>NaN</td>\n",
       "      <td>NaN</td>\n",
       "      <td>0</td>\n",
       "      <td>1</td>\n",
       "      <td>0</td>\n",
       "      <td>Wed Nov 12 20:01:32 +0000 2014</td>\n",
       "      <td>2014-11-12 21:01:32</td>\n",
       "      <td>2014-11-12 21:44:09</td>\n",
       "      <td>2014-11-12 21:44:09</td>\n",
       "    </tr>\n",
       "    <tr>\n",
       "      <th>2</th>\n",
       "      <td>532513524460052480</td>\n",
       "      <td>Tutti a tavola, con il filetto di baccalà. htt...</td>\n",
       "      <td>&lt;a href=\"http://www.facebook.com/twitter\" rel=...</td>\n",
       "      <td>24858289</td>\n",
       "      <td>NaN</td>\n",
       "      <td>0</td>\n",
       "      <td>0</td>\n",
       "      <td>NaN</td>\n",
       "      <td>0</td>\n",
       "      <td>NaN</td>\n",
       "      <td>...</td>\n",
       "      <td>NaN</td>\n",
       "      <td>NaN</td>\n",
       "      <td>NaN</td>\n",
       "      <td>0</td>\n",
       "      <td>1</td>\n",
       "      <td>0</td>\n",
       "      <td>Wed Nov 12 12:41:32 +0000 2014</td>\n",
       "      <td>2014-11-12 13:41:32</td>\n",
       "      <td>2014-11-12 21:44:09</td>\n",
       "      <td>2014-11-12 21:44:09</td>\n",
       "    </tr>\n",
       "    <tr>\n",
       "      <th>3</th>\n",
       "      <td>532297646669852672</td>\n",
       "      <td>http://t.co/NAHQ4l2pUy</td>\n",
       "      <td>&lt;a href=\"http://www.facebook.com/twitter\" rel=...</td>\n",
       "      <td>24858289</td>\n",
       "      <td>NaN</td>\n",
       "      <td>0</td>\n",
       "      <td>0</td>\n",
       "      <td>NaN</td>\n",
       "      <td>0</td>\n",
       "      <td>NaN</td>\n",
       "      <td>...</td>\n",
       "      <td>NaN</td>\n",
       "      <td>NaN</td>\n",
       "      <td>NaN</td>\n",
       "      <td>0</td>\n",
       "      <td>1</td>\n",
       "      <td>0</td>\n",
       "      <td>Tue Nov 11 22:23:43 +0000 2014</td>\n",
       "      <td>2014-11-11 23:23:43</td>\n",
       "      <td>2014-11-12 21:44:09</td>\n",
       "      <td>2014-11-12 21:44:09</td>\n",
       "    </tr>\n",
       "    <tr>\n",
       "      <th>4</th>\n",
       "      <td>532295960807100416</td>\n",
       "      <td>Gold - Spandau Ballet http://t.co/o8ZJHt7Neu</td>\n",
       "      <td>&lt;a href=\"http://www.facebook.com/twitter\" rel=...</td>\n",
       "      <td>24858289</td>\n",
       "      <td>NaN</td>\n",
       "      <td>0</td>\n",
       "      <td>0</td>\n",
       "      <td>NaN</td>\n",
       "      <td>0</td>\n",
       "      <td>NaN</td>\n",
       "      <td>...</td>\n",
       "      <td>NaN</td>\n",
       "      <td>NaN</td>\n",
       "      <td>NaN</td>\n",
       "      <td>0</td>\n",
       "      <td>1</td>\n",
       "      <td>0</td>\n",
       "      <td>Tue Nov 11 22:17:01 +0000 2014</td>\n",
       "      <td>2014-11-11 23:17:01</td>\n",
       "      <td>2014-11-12 21:44:09</td>\n",
       "      <td>2014-11-12 21:44:09</td>\n",
       "    </tr>\n",
       "  </tbody>\n",
       "</table>\n",
       "<p>5 rows × 25 columns</p>\n",
       "</div>"
      ],
      "text/plain": [
       "                   id                                               text  \\\n",
       "0  532627591686275072   I Pooh - In silenzio 1968 http://t.co/ahvQxUqTws   \n",
       "1  532624255058706432                             http://t.co/HyI5EQKz6Q   \n",
       "2  532513524460052480  Tutti a tavola, con il filetto di baccalà. htt...   \n",
       "3  532297646669852672                             http://t.co/NAHQ4l2pUy   \n",
       "4  532295960807100416       Gold - Spandau Ballet http://t.co/o8ZJHt7Neu   \n",
       "\n",
       "                                              source   user_id  truncated  \\\n",
       "0  <a href=\"http://www.facebook.com/twitter\" rel=...  24858289        NaN   \n",
       "1  <a href=\"http://www.facebook.com/twitter\" rel=...  24858289        NaN   \n",
       "2  <a href=\"http://www.facebook.com/twitter\" rel=...  24858289        NaN   \n",
       "3  <a href=\"http://www.facebook.com/twitter\" rel=...  24858289        NaN   \n",
       "4  <a href=\"http://www.facebook.com/twitter\" rel=...  24858289        NaN   \n",
       "\n",
       "   in_reply_to_status_id  in_reply_to_user_id in_reply_to_screen_name  \\\n",
       "0                      0                    0                     NaN   \n",
       "1                      0                    0                     NaN   \n",
       "2                      0                    0                     NaN   \n",
       "3                      0                    0                     NaN   \n",
       "4                      0                    0                     NaN   \n",
       "\n",
       "   retweeted_status_id  geo         ...          favorited  retweeted  \\\n",
       "0                    0  NaN         ...                NaN        NaN   \n",
       "1                    0  NaN         ...                NaN        NaN   \n",
       "2                    0  NaN         ...                NaN        NaN   \n",
       "3                    0  NaN         ...                NaN        NaN   \n",
       "4                    0  NaN         ...                NaN        NaN   \n",
       "\n",
       "   possibly_sensitive  num_hashtags  num_urls  num_mentions  \\\n",
       "0                 NaN             0         1             0   \n",
       "1                 NaN             0         1             0   \n",
       "2                 NaN             0         1             0   \n",
       "3                 NaN             0         1             0   \n",
       "4                 NaN             0         1             0   \n",
       "\n",
       "                       created_at            timestamp           crawled_at  \\\n",
       "0  Wed Nov 12 20:14:48 +0000 2014  2014-11-12 21:14:48  2014-11-12 21:44:09   \n",
       "1  Wed Nov 12 20:01:32 +0000 2014  2014-11-12 21:01:32  2014-11-12 21:44:09   \n",
       "2  Wed Nov 12 12:41:32 +0000 2014  2014-11-12 13:41:32  2014-11-12 21:44:09   \n",
       "3  Tue Nov 11 22:23:43 +0000 2014  2014-11-11 23:23:43  2014-11-12 21:44:09   \n",
       "4  Tue Nov 11 22:17:01 +0000 2014  2014-11-11 23:17:01  2014-11-12 21:44:09   \n",
       "\n",
       "               updated  \n",
       "0  2014-11-12 21:44:09  \n",
       "1  2014-11-12 21:44:09  \n",
       "2  2014-11-12 21:44:09  \n",
       "3  2014-11-12 21:44:09  \n",
       "4  2014-11-12 21:44:09  \n",
       "\n",
       "[5 rows x 25 columns]"
      ]
     },
     "execution_count": 2,
     "metadata": {},
     "output_type": "execute_result"
    },
    {
     "data": {
      "text/html": [
       "<div>\n",
       "<style scoped>\n",
       "    .dataframe tbody tr th:only-of-type {\n",
       "        vertical-align: middle;\n",
       "    }\n",
       "\n",
       "    .dataframe tbody tr th {\n",
       "        vertical-align: top;\n",
       "    }\n",
       "\n",
       "    .dataframe thead th {\n",
       "        text-align: right;\n",
       "    }\n",
       "</style>\n",
       "<table border=\"1\" class=\"dataframe\">\n",
       "  <thead>\n",
       "    <tr style=\"text-align: right;\">\n",
       "      <th></th>\n",
       "      <th>id</th>\n",
       "      <th>text</th>\n",
       "      <th>source</th>\n",
       "      <th>user_id</th>\n",
       "      <th>truncated</th>\n",
       "      <th>in_reply_to_status_id</th>\n",
       "      <th>in_reply_to_user_id</th>\n",
       "      <th>in_reply_to_screen_name</th>\n",
       "      <th>retweeted_status_id</th>\n",
       "      <th>geo</th>\n",
       "      <th>...</th>\n",
       "      <th>favorited</th>\n",
       "      <th>retweeted</th>\n",
       "      <th>possibly_sensitive</th>\n",
       "      <th>num_hashtags</th>\n",
       "      <th>num_urls</th>\n",
       "      <th>num_mentions</th>\n",
       "      <th>created_at</th>\n",
       "      <th>timestamp</th>\n",
       "      <th>crawled_at</th>\n",
       "      <th>updated</th>\n",
       "    </tr>\n",
       "  </thead>\n",
       "  <tbody>\n",
       "    <tr>\n",
       "      <th>0</th>\n",
       "      <td>532627591686275072</td>\n",
       "      <td>I Pooh - In silenzio 1968 http://t.co/ahvQxUqTws</td>\n",
       "      <td>&lt;a href=\"http://www.facebook.com/twitter\" rel=...</td>\n",
       "      <td>24858289</td>\n",
       "      <td>NaN</td>\n",
       "      <td>0</td>\n",
       "      <td>0</td>\n",
       "      <td>NaN</td>\n",
       "      <td>0</td>\n",
       "      <td>NaN</td>\n",
       "      <td>...</td>\n",
       "      <td>NaN</td>\n",
       "      <td>NaN</td>\n",
       "      <td>NaN</td>\n",
       "      <td>0</td>\n",
       "      <td>1</td>\n",
       "      <td>0</td>\n",
       "      <td>Wed Nov 12 20:14:48 +0000 2014</td>\n",
       "      <td>2014-11-12 21:14:48</td>\n",
       "      <td>2014-11-12 21:44:09</td>\n",
       "      <td>2014-11-12 21:44:09</td>\n",
       "    </tr>\n",
       "    <tr>\n",
       "      <th>1</th>\n",
       "      <td>532624255058706432</td>\n",
       "      <td>http://t.co/HyI5EQKz6Q</td>\n",
       "      <td>&lt;a href=\"http://www.facebook.com/twitter\" rel=...</td>\n",
       "      <td>24858289</td>\n",
       "      <td>NaN</td>\n",
       "      <td>0</td>\n",
       "      <td>0</td>\n",
       "      <td>NaN</td>\n",
       "      <td>0</td>\n",
       "      <td>NaN</td>\n",
       "      <td>...</td>\n",
       "      <td>NaN</td>\n",
       "      <td>NaN</td>\n",
       "      <td>NaN</td>\n",
       "      <td>0</td>\n",
       "      <td>1</td>\n",
       "      <td>0</td>\n",
       "      <td>Wed Nov 12 20:01:32 +0000 2014</td>\n",
       "      <td>2014-11-12 21:01:32</td>\n",
       "      <td>2014-11-12 21:44:09</td>\n",
       "      <td>2014-11-12 21:44:09</td>\n",
       "    </tr>\n",
       "    <tr>\n",
       "      <th>2</th>\n",
       "      <td>532513524460052480</td>\n",
       "      <td>Tutti a tavola, con il filetto di baccalà. htt...</td>\n",
       "      <td>&lt;a href=\"http://www.facebook.com/twitter\" rel=...</td>\n",
       "      <td>24858289</td>\n",
       "      <td>NaN</td>\n",
       "      <td>0</td>\n",
       "      <td>0</td>\n",
       "      <td>NaN</td>\n",
       "      <td>0</td>\n",
       "      <td>NaN</td>\n",
       "      <td>...</td>\n",
       "      <td>NaN</td>\n",
       "      <td>NaN</td>\n",
       "      <td>NaN</td>\n",
       "      <td>0</td>\n",
       "      <td>1</td>\n",
       "      <td>0</td>\n",
       "      <td>Wed Nov 12 12:41:32 +0000 2014</td>\n",
       "      <td>2014-11-12 13:41:32</td>\n",
       "      <td>2014-11-12 21:44:09</td>\n",
       "      <td>2014-11-12 21:44:09</td>\n",
       "    </tr>\n",
       "    <tr>\n",
       "      <th>3</th>\n",
       "      <td>532297646669852672</td>\n",
       "      <td>http://t.co/NAHQ4l2pUy</td>\n",
       "      <td>&lt;a href=\"http://www.facebook.com/twitter\" rel=...</td>\n",
       "      <td>24858289</td>\n",
       "      <td>NaN</td>\n",
       "      <td>0</td>\n",
       "      <td>0</td>\n",
       "      <td>NaN</td>\n",
       "      <td>0</td>\n",
       "      <td>NaN</td>\n",
       "      <td>...</td>\n",
       "      <td>NaN</td>\n",
       "      <td>NaN</td>\n",
       "      <td>NaN</td>\n",
       "      <td>0</td>\n",
       "      <td>1</td>\n",
       "      <td>0</td>\n",
       "      <td>Tue Nov 11 22:23:43 +0000 2014</td>\n",
       "      <td>2014-11-11 23:23:43</td>\n",
       "      <td>2014-11-12 21:44:09</td>\n",
       "      <td>2014-11-12 21:44:09</td>\n",
       "    </tr>\n",
       "    <tr>\n",
       "      <th>4</th>\n",
       "      <td>532295960807100416</td>\n",
       "      <td>Gold - Spandau Ballet http://t.co/o8ZJHt7Neu</td>\n",
       "      <td>&lt;a href=\"http://www.facebook.com/twitter\" rel=...</td>\n",
       "      <td>24858289</td>\n",
       "      <td>NaN</td>\n",
       "      <td>0</td>\n",
       "      <td>0</td>\n",
       "      <td>NaN</td>\n",
       "      <td>0</td>\n",
       "      <td>NaN</td>\n",
       "      <td>...</td>\n",
       "      <td>NaN</td>\n",
       "      <td>NaN</td>\n",
       "      <td>NaN</td>\n",
       "      <td>0</td>\n",
       "      <td>1</td>\n",
       "      <td>0</td>\n",
       "      <td>Tue Nov 11 22:17:01 +0000 2014</td>\n",
       "      <td>2014-11-11 23:17:01</td>\n",
       "      <td>2014-11-12 21:44:09</td>\n",
       "      <td>2014-11-12 21:44:09</td>\n",
       "    </tr>\n",
       "  </tbody>\n",
       "</table>\n",
       "<p>5 rows × 25 columns</p>\n",
       "</div>"
      ],
      "text/plain": [
       "                   id                                               text  \\\n",
       "0  532627591686275072   I Pooh - In silenzio 1968 http://t.co/ahvQxUqTws   \n",
       "1  532624255058706432                             http://t.co/HyI5EQKz6Q   \n",
       "2  532513524460052480  Tutti a tavola, con il filetto di baccalà. htt...   \n",
       "3  532297646669852672                             http://t.co/NAHQ4l2pUy   \n",
       "4  532295960807100416       Gold - Spandau Ballet http://t.co/o8ZJHt7Neu   \n",
       "\n",
       "                                              source   user_id  truncated  \\\n",
       "0  <a href=\"http://www.facebook.com/twitter\" rel=...  24858289        NaN   \n",
       "1  <a href=\"http://www.facebook.com/twitter\" rel=...  24858289        NaN   \n",
       "2  <a href=\"http://www.facebook.com/twitter\" rel=...  24858289        NaN   \n",
       "3  <a href=\"http://www.facebook.com/twitter\" rel=...  24858289        NaN   \n",
       "4  <a href=\"http://www.facebook.com/twitter\" rel=...  24858289        NaN   \n",
       "\n",
       "   in_reply_to_status_id  in_reply_to_user_id in_reply_to_screen_name  \\\n",
       "0                      0                    0                     NaN   \n",
       "1                      0                    0                     NaN   \n",
       "2                      0                    0                     NaN   \n",
       "3                      0                    0                     NaN   \n",
       "4                      0                    0                     NaN   \n",
       "\n",
       "   retweeted_status_id  geo         ...          favorited  retweeted  \\\n",
       "0                    0  NaN         ...                NaN        NaN   \n",
       "1                    0  NaN         ...                NaN        NaN   \n",
       "2                    0  NaN         ...                NaN        NaN   \n",
       "3                    0  NaN         ...                NaN        NaN   \n",
       "4                    0  NaN         ...                NaN        NaN   \n",
       "\n",
       "   possibly_sensitive  num_hashtags  num_urls  num_mentions  \\\n",
       "0                 NaN             0         1             0   \n",
       "1                 NaN             0         1             0   \n",
       "2                 NaN             0         1             0   \n",
       "3                 NaN             0         1             0   \n",
       "4                 NaN             0         1             0   \n",
       "\n",
       "                       created_at            timestamp           crawled_at  \\\n",
       "0  Wed Nov 12 20:14:48 +0000 2014  2014-11-12 21:14:48  2014-11-12 21:44:09   \n",
       "1  Wed Nov 12 20:01:32 +0000 2014  2014-11-12 21:01:32  2014-11-12 21:44:09   \n",
       "2  Wed Nov 12 12:41:32 +0000 2014  2014-11-12 13:41:32  2014-11-12 21:44:09   \n",
       "3  Tue Nov 11 22:23:43 +0000 2014  2014-11-11 23:23:43  2014-11-12 21:44:09   \n",
       "4  Tue Nov 11 22:17:01 +0000 2014  2014-11-11 23:17:01  2014-11-12 21:44:09   \n",
       "\n",
       "               updated  \n",
       "0  2014-11-12 21:44:09  \n",
       "1  2014-11-12 21:44:09  \n",
       "2  2014-11-12 21:44:09  \n",
       "3  2014-11-12 21:44:09  \n",
       "4  2014-11-12 21:44:09  \n",
       "\n",
       "[5 rows x 25 columns]"
      ]
     },
     "execution_count": 2,
     "metadata": {},
     "output_type": "execute_result"
    }
   ],
   "source": [
    "stweet_ds1_full.head()"
   ]
  },
  {
   "cell_type": "code",
   "execution_count": 3,
   "metadata": {},
   "outputs": [
    {
     "data": {
      "text/html": [
       "<div>\n",
       "<style scoped>\n",
       "    .dataframe tbody tr th:only-of-type {\n",
       "        vertical-align: middle;\n",
       "    }\n",
       "\n",
       "    .dataframe tbody tr th {\n",
       "        vertical-align: top;\n",
       "    }\n",
       "\n",
       "    .dataframe thead th {\n",
       "        text-align: right;\n",
       "    }\n",
       "</style>\n",
       "<table border=\"1\" class=\"dataframe\">\n",
       "  <thead>\n",
       "    <tr style=\"text-align: right;\">\n",
       "      <th></th>\n",
       "      <th>id</th>\n",
       "      <th>text</th>\n",
       "      <th>source</th>\n",
       "      <th>user_id</th>\n",
       "      <th>truncated</th>\n",
       "      <th>in_reply_to_status_id</th>\n",
       "      <th>in_reply_to_user_id</th>\n",
       "      <th>in_reply_to_screen_name</th>\n",
       "      <th>retweeted_status_id</th>\n",
       "      <th>geo</th>\n",
       "      <th>...</th>\n",
       "      <th>favorited</th>\n",
       "      <th>retweeted</th>\n",
       "      <th>possibly_sensitive</th>\n",
       "      <th>num_hashtags</th>\n",
       "      <th>num_urls</th>\n",
       "      <th>num_mentions</th>\n",
       "      <th>created_at</th>\n",
       "      <th>timestamp</th>\n",
       "      <th>crawled_at</th>\n",
       "      <th>updated</th>\n",
       "    </tr>\n",
       "  </thead>\n",
       "  <tbody>\n",
       "    <tr>\n",
       "      <th>0</th>\n",
       "      <td>593932392663912449</td>\n",
       "      <td>RT @morningJewshow: Speaking about Jews and co...</td>\n",
       "      <td>&lt;a href=\"http://tapbots.com/tweetbot\" rel=\"nof...</td>\n",
       "      <td>678033.0</td>\n",
       "      <td>NaN</td>\n",
       "      <td>0.0</td>\n",
       "      <td>0.0</td>\n",
       "      <td>NaN</td>\n",
       "      <td>5.939322e+17</td>\n",
       "      <td>NaN</td>\n",
       "      <td>...</td>\n",
       "      <td>NaN</td>\n",
       "      <td>NaN</td>\n",
       "      <td>NaN</td>\n",
       "      <td>0.0</td>\n",
       "      <td>0.0</td>\n",
       "      <td>1.0</td>\n",
       "      <td>Fri May 01 00:18:11 +0000 2015</td>\n",
       "      <td>2015-05-01 02:18:11</td>\n",
       "      <td>2015-05-01 12:57:19</td>\n",
       "      <td>2015-05-01 12:57:19</td>\n",
       "    </tr>\n",
       "    <tr>\n",
       "      <th>1</th>\n",
       "      <td>593895316719423488</td>\n",
       "      <td>This age/face recognition thing..no reason pla...</td>\n",
       "      <td>&lt;a href=\"http://twitter.com\" rel=\"nofollow\"&gt;Tw...</td>\n",
       "      <td>678033.0</td>\n",
       "      <td>NaN</td>\n",
       "      <td>0.0</td>\n",
       "      <td>0.0</td>\n",
       "      <td>NaN</td>\n",
       "      <td>0.000000e+00</td>\n",
       "      <td>NaN</td>\n",
       "      <td>...</td>\n",
       "      <td>NaN</td>\n",
       "      <td>NaN</td>\n",
       "      <td>NaN</td>\n",
       "      <td>0.0</td>\n",
       "      <td>0.0</td>\n",
       "      <td>0.0</td>\n",
       "      <td>Thu Apr 30 21:50:52 +0000 2015</td>\n",
       "      <td>2015-04-30 23:50:52</td>\n",
       "      <td>2015-05-01 12:57:19</td>\n",
       "      <td>2015-05-01 12:57:19</td>\n",
       "    </tr>\n",
       "    <tr>\n",
       "      <th>2</th>\n",
       "      <td>593880638069018624</td>\n",
       "      <td>Only upside of the moment I can think of is th...</td>\n",
       "      <td>&lt;a href=\"http://twitter.com\" rel=\"nofollow\"&gt;Tw...</td>\n",
       "      <td>678033.0</td>\n",
       "      <td>NaN</td>\n",
       "      <td>0.0</td>\n",
       "      <td>0.0</td>\n",
       "      <td>NaN</td>\n",
       "      <td>0.000000e+00</td>\n",
       "      <td>NaN</td>\n",
       "      <td>...</td>\n",
       "      <td>NaN</td>\n",
       "      <td>NaN</td>\n",
       "      <td>NaN</td>\n",
       "      <td>2.0</td>\n",
       "      <td>0.0</td>\n",
       "      <td>0.0</td>\n",
       "      <td>Thu Apr 30 20:52:32 +0000 2015</td>\n",
       "      <td>2015-04-30 22:52:32</td>\n",
       "      <td>2015-05-01 12:57:19</td>\n",
       "      <td>2015-05-01 12:57:19</td>\n",
       "    </tr>\n",
       "    <tr>\n",
       "      <th>3</th>\n",
       "      <td>593847955536252928</td>\n",
       "      <td>If you're going to think about+create experien...</td>\n",
       "      <td>&lt;a href=\"http://tapbots.com/tweetbot\" rel=\"nof...</td>\n",
       "      <td>678033.0</td>\n",
       "      <td>NaN</td>\n",
       "      <td>0.0</td>\n",
       "      <td>0.0</td>\n",
       "      <td>NaN</td>\n",
       "      <td>0.000000e+00</td>\n",
       "      <td>NaN</td>\n",
       "      <td>...</td>\n",
       "      <td>NaN</td>\n",
       "      <td>NaN</td>\n",
       "      <td>NaN</td>\n",
       "      <td>2.0</td>\n",
       "      <td>0.0</td>\n",
       "      <td>0.0</td>\n",
       "      <td>Thu Apr 30 18:42:40 +0000 2015</td>\n",
       "      <td>2015-04-30 20:42:40</td>\n",
       "      <td>2015-05-01 12:57:19</td>\n",
       "      <td>2015-05-01 12:57:19</td>\n",
       "    </tr>\n",
       "    <tr>\n",
       "      <th>4</th>\n",
       "      <td>593847687847350272</td>\n",
       "      <td>Watching a thread on FB about possible future ...</td>\n",
       "      <td>&lt;a href=\"http://tapbots.com/tweetbot\" rel=\"nof...</td>\n",
       "      <td>678033.0</td>\n",
       "      <td>NaN</td>\n",
       "      <td>0.0</td>\n",
       "      <td>0.0</td>\n",
       "      <td>NaN</td>\n",
       "      <td>0.000000e+00</td>\n",
       "      <td>NaN</td>\n",
       "      <td>...</td>\n",
       "      <td>NaN</td>\n",
       "      <td>NaN</td>\n",
       "      <td>NaN</td>\n",
       "      <td>0.0</td>\n",
       "      <td>0.0</td>\n",
       "      <td>0.0</td>\n",
       "      <td>Thu Apr 30 18:41:36 +0000 2015</td>\n",
       "      <td>2015-04-30 20:41:36</td>\n",
       "      <td>2015-05-01 12:57:19</td>\n",
       "      <td>2015-05-01 12:57:19</td>\n",
       "    </tr>\n",
       "  </tbody>\n",
       "</table>\n",
       "<p>5 rows × 25 columns</p>\n",
       "</div>"
      ],
      "text/plain": [
       "                   id                                               text  \\\n",
       "0  593932392663912449  RT @morningJewshow: Speaking about Jews and co...   \n",
       "1  593895316719423488  This age/face recognition thing..no reason pla...   \n",
       "2  593880638069018624  Only upside of the moment I can think of is th...   \n",
       "3  593847955536252928  If you're going to think about+create experien...   \n",
       "4  593847687847350272  Watching a thread on FB about possible future ...   \n",
       "\n",
       "                                              source   user_id  truncated  \\\n",
       "0  <a href=\"http://tapbots.com/tweetbot\" rel=\"nof...  678033.0        NaN   \n",
       "1  <a href=\"http://twitter.com\" rel=\"nofollow\">Tw...  678033.0        NaN   \n",
       "2  <a href=\"http://twitter.com\" rel=\"nofollow\">Tw...  678033.0        NaN   \n",
       "3  <a href=\"http://tapbots.com/tweetbot\" rel=\"nof...  678033.0        NaN   \n",
       "4  <a href=\"http://tapbots.com/tweetbot\" rel=\"nof...  678033.0        NaN   \n",
       "\n",
       "   in_reply_to_status_id  in_reply_to_user_id in_reply_to_screen_name  \\\n",
       "0                    0.0                  0.0                     NaN   \n",
       "1                    0.0                  0.0                     NaN   \n",
       "2                    0.0                  0.0                     NaN   \n",
       "3                    0.0                  0.0                     NaN   \n",
       "4                    0.0                  0.0                     NaN   \n",
       "\n",
       "   retweeted_status_id  geo         ...          favorited  retweeted  \\\n",
       "0         5.939322e+17  NaN         ...                NaN        NaN   \n",
       "1         0.000000e+00  NaN         ...                NaN        NaN   \n",
       "2         0.000000e+00  NaN         ...                NaN        NaN   \n",
       "3         0.000000e+00  NaN         ...                NaN        NaN   \n",
       "4         0.000000e+00  NaN         ...                NaN        NaN   \n",
       "\n",
       "   possibly_sensitive  num_hashtags  num_urls  num_mentions  \\\n",
       "0                 NaN           0.0       0.0           1.0   \n",
       "1                 NaN           0.0       0.0           0.0   \n",
       "2                 NaN           2.0       0.0           0.0   \n",
       "3                 NaN           2.0       0.0           0.0   \n",
       "4                 NaN           0.0       0.0           0.0   \n",
       "\n",
       "                       created_at            timestamp           crawled_at  \\\n",
       "0  Fri May 01 00:18:11 +0000 2015  2015-05-01 02:18:11  2015-05-01 12:57:19   \n",
       "1  Thu Apr 30 21:50:52 +0000 2015  2015-04-30 23:50:52  2015-05-01 12:57:19   \n",
       "2  Thu Apr 30 20:52:32 +0000 2015  2015-04-30 22:52:32  2015-05-01 12:57:19   \n",
       "3  Thu Apr 30 18:42:40 +0000 2015  2015-04-30 20:42:40  2015-05-01 12:57:19   \n",
       "4  Thu Apr 30 18:41:36 +0000 2015  2015-04-30 20:41:36  2015-05-01 12:57:19   \n",
       "\n",
       "               updated  \n",
       "0  2015-05-01 12:57:19  \n",
       "1  2015-05-01 12:57:19  \n",
       "2  2015-05-01 12:57:19  \n",
       "3  2015-05-01 12:57:19  \n",
       "4  2015-05-01 12:57:19  \n",
       "\n",
       "[5 rows x 25 columns]"
      ]
     },
     "execution_count": 3,
     "metadata": {},
     "output_type": "execute_result"
    },
    {
     "data": {
      "text/html": [
       "<div>\n",
       "<style scoped>\n",
       "    .dataframe tbody tr th:only-of-type {\n",
       "        vertical-align: middle;\n",
       "    }\n",
       "\n",
       "    .dataframe tbody tr th {\n",
       "        vertical-align: top;\n",
       "    }\n",
       "\n",
       "    .dataframe thead th {\n",
       "        text-align: right;\n",
       "    }\n",
       "</style>\n",
       "<table border=\"1\" class=\"dataframe\">\n",
       "  <thead>\n",
       "    <tr style=\"text-align: right;\">\n",
       "      <th></th>\n",
       "      <th>id</th>\n",
       "      <th>text</th>\n",
       "      <th>source</th>\n",
       "      <th>user_id</th>\n",
       "      <th>truncated</th>\n",
       "      <th>in_reply_to_status_id</th>\n",
       "      <th>in_reply_to_user_id</th>\n",
       "      <th>in_reply_to_screen_name</th>\n",
       "      <th>retweeted_status_id</th>\n",
       "      <th>geo</th>\n",
       "      <th>...</th>\n",
       "      <th>favorited</th>\n",
       "      <th>retweeted</th>\n",
       "      <th>possibly_sensitive</th>\n",
       "      <th>num_hashtags</th>\n",
       "      <th>num_urls</th>\n",
       "      <th>num_mentions</th>\n",
       "      <th>created_at</th>\n",
       "      <th>timestamp</th>\n",
       "      <th>crawled_at</th>\n",
       "      <th>updated</th>\n",
       "    </tr>\n",
       "  </thead>\n",
       "  <tbody>\n",
       "    <tr>\n",
       "      <th>0</th>\n",
       "      <td>593932392663912449</td>\n",
       "      <td>RT @morningJewshow: Speaking about Jews and co...</td>\n",
       "      <td>&lt;a href=\"http://tapbots.com/tweetbot\" rel=\"nof...</td>\n",
       "      <td>678033.0</td>\n",
       "      <td>NaN</td>\n",
       "      <td>0.0</td>\n",
       "      <td>0.0</td>\n",
       "      <td>NaN</td>\n",
       "      <td>5.939322e+17</td>\n",
       "      <td>NaN</td>\n",
       "      <td>...</td>\n",
       "      <td>NaN</td>\n",
       "      <td>NaN</td>\n",
       "      <td>NaN</td>\n",
       "      <td>0.0</td>\n",
       "      <td>0.0</td>\n",
       "      <td>1.0</td>\n",
       "      <td>Fri May 01 00:18:11 +0000 2015</td>\n",
       "      <td>2015-05-01 02:18:11</td>\n",
       "      <td>2015-05-01 12:57:19</td>\n",
       "      <td>2015-05-01 12:57:19</td>\n",
       "    </tr>\n",
       "    <tr>\n",
       "      <th>1</th>\n",
       "      <td>593895316719423488</td>\n",
       "      <td>This age/face recognition thing..no reason pla...</td>\n",
       "      <td>&lt;a href=\"http://twitter.com\" rel=\"nofollow\"&gt;Tw...</td>\n",
       "      <td>678033.0</td>\n",
       "      <td>NaN</td>\n",
       "      <td>0.0</td>\n",
       "      <td>0.0</td>\n",
       "      <td>NaN</td>\n",
       "      <td>0.000000e+00</td>\n",
       "      <td>NaN</td>\n",
       "      <td>...</td>\n",
       "      <td>NaN</td>\n",
       "      <td>NaN</td>\n",
       "      <td>NaN</td>\n",
       "      <td>0.0</td>\n",
       "      <td>0.0</td>\n",
       "      <td>0.0</td>\n",
       "      <td>Thu Apr 30 21:50:52 +0000 2015</td>\n",
       "      <td>2015-04-30 23:50:52</td>\n",
       "      <td>2015-05-01 12:57:19</td>\n",
       "      <td>2015-05-01 12:57:19</td>\n",
       "    </tr>\n",
       "    <tr>\n",
       "      <th>2</th>\n",
       "      <td>593880638069018624</td>\n",
       "      <td>Only upside of the moment I can think of is th...</td>\n",
       "      <td>&lt;a href=\"http://twitter.com\" rel=\"nofollow\"&gt;Tw...</td>\n",
       "      <td>678033.0</td>\n",
       "      <td>NaN</td>\n",
       "      <td>0.0</td>\n",
       "      <td>0.0</td>\n",
       "      <td>NaN</td>\n",
       "      <td>0.000000e+00</td>\n",
       "      <td>NaN</td>\n",
       "      <td>...</td>\n",
       "      <td>NaN</td>\n",
       "      <td>NaN</td>\n",
       "      <td>NaN</td>\n",
       "      <td>2.0</td>\n",
       "      <td>0.0</td>\n",
       "      <td>0.0</td>\n",
       "      <td>Thu Apr 30 20:52:32 +0000 2015</td>\n",
       "      <td>2015-04-30 22:52:32</td>\n",
       "      <td>2015-05-01 12:57:19</td>\n",
       "      <td>2015-05-01 12:57:19</td>\n",
       "    </tr>\n",
       "    <tr>\n",
       "      <th>3</th>\n",
       "      <td>593847955536252928</td>\n",
       "      <td>If you're going to think about+create experien...</td>\n",
       "      <td>&lt;a href=\"http://tapbots.com/tweetbot\" rel=\"nof...</td>\n",
       "      <td>678033.0</td>\n",
       "      <td>NaN</td>\n",
       "      <td>0.0</td>\n",
       "      <td>0.0</td>\n",
       "      <td>NaN</td>\n",
       "      <td>0.000000e+00</td>\n",
       "      <td>NaN</td>\n",
       "      <td>...</td>\n",
       "      <td>NaN</td>\n",
       "      <td>NaN</td>\n",
       "      <td>NaN</td>\n",
       "      <td>2.0</td>\n",
       "      <td>0.0</td>\n",
       "      <td>0.0</td>\n",
       "      <td>Thu Apr 30 18:42:40 +0000 2015</td>\n",
       "      <td>2015-04-30 20:42:40</td>\n",
       "      <td>2015-05-01 12:57:19</td>\n",
       "      <td>2015-05-01 12:57:19</td>\n",
       "    </tr>\n",
       "    <tr>\n",
       "      <th>4</th>\n",
       "      <td>593847687847350272</td>\n",
       "      <td>Watching a thread on FB about possible future ...</td>\n",
       "      <td>&lt;a href=\"http://tapbots.com/tweetbot\" rel=\"nof...</td>\n",
       "      <td>678033.0</td>\n",
       "      <td>NaN</td>\n",
       "      <td>0.0</td>\n",
       "      <td>0.0</td>\n",
       "      <td>NaN</td>\n",
       "      <td>0.000000e+00</td>\n",
       "      <td>NaN</td>\n",
       "      <td>...</td>\n",
       "      <td>NaN</td>\n",
       "      <td>NaN</td>\n",
       "      <td>NaN</td>\n",
       "      <td>0.0</td>\n",
       "      <td>0.0</td>\n",
       "      <td>0.0</td>\n",
       "      <td>Thu Apr 30 18:41:36 +0000 2015</td>\n",
       "      <td>2015-04-30 20:41:36</td>\n",
       "      <td>2015-05-01 12:57:19</td>\n",
       "      <td>2015-05-01 12:57:19</td>\n",
       "    </tr>\n",
       "  </tbody>\n",
       "</table>\n",
       "<p>5 rows × 25 columns</p>\n",
       "</div>"
      ],
      "text/plain": [
       "                   id                                               text  \\\n",
       "0  593932392663912449  RT @morningJewshow: Speaking about Jews and co...   \n",
       "1  593895316719423488  This age/face recognition thing..no reason pla...   \n",
       "2  593880638069018624  Only upside of the moment I can think of is th...   \n",
       "3  593847955536252928  If you're going to think about+create experien...   \n",
       "4  593847687847350272  Watching a thread on FB about possible future ...   \n",
       "\n",
       "                                              source   user_id  truncated  \\\n",
       "0  <a href=\"http://tapbots.com/tweetbot\" rel=\"nof...  678033.0        NaN   \n",
       "1  <a href=\"http://twitter.com\" rel=\"nofollow\">Tw...  678033.0        NaN   \n",
       "2  <a href=\"http://twitter.com\" rel=\"nofollow\">Tw...  678033.0        NaN   \n",
       "3  <a href=\"http://tapbots.com/tweetbot\" rel=\"nof...  678033.0        NaN   \n",
       "4  <a href=\"http://tapbots.com/tweetbot\" rel=\"nof...  678033.0        NaN   \n",
       "\n",
       "   in_reply_to_status_id  in_reply_to_user_id in_reply_to_screen_name  \\\n",
       "0                    0.0                  0.0                     NaN   \n",
       "1                    0.0                  0.0                     NaN   \n",
       "2                    0.0                  0.0                     NaN   \n",
       "3                    0.0                  0.0                     NaN   \n",
       "4                    0.0                  0.0                     NaN   \n",
       "\n",
       "   retweeted_status_id  geo         ...          favorited  retweeted  \\\n",
       "0         5.939322e+17  NaN         ...                NaN        NaN   \n",
       "1         0.000000e+00  NaN         ...                NaN        NaN   \n",
       "2         0.000000e+00  NaN         ...                NaN        NaN   \n",
       "3         0.000000e+00  NaN         ...                NaN        NaN   \n",
       "4         0.000000e+00  NaN         ...                NaN        NaN   \n",
       "\n",
       "   possibly_sensitive  num_hashtags  num_urls  num_mentions  \\\n",
       "0                 NaN           0.0       0.0           1.0   \n",
       "1                 NaN           0.0       0.0           0.0   \n",
       "2                 NaN           2.0       0.0           0.0   \n",
       "3                 NaN           2.0       0.0           0.0   \n",
       "4                 NaN           0.0       0.0           0.0   \n",
       "\n",
       "                       created_at            timestamp           crawled_at  \\\n",
       "0  Fri May 01 00:18:11 +0000 2015  2015-05-01 02:18:11  2015-05-01 12:57:19   \n",
       "1  Thu Apr 30 21:50:52 +0000 2015  2015-04-30 23:50:52  2015-05-01 12:57:19   \n",
       "2  Thu Apr 30 20:52:32 +0000 2015  2015-04-30 22:52:32  2015-05-01 12:57:19   \n",
       "3  Thu Apr 30 18:42:40 +0000 2015  2015-04-30 20:42:40  2015-05-01 12:57:19   \n",
       "4  Thu Apr 30 18:41:36 +0000 2015  2015-04-30 20:41:36  2015-05-01 12:57:19   \n",
       "\n",
       "               updated  \n",
       "0  2015-05-01 12:57:19  \n",
       "1  2015-05-01 12:57:19  \n",
       "2  2015-05-01 12:57:19  \n",
       "3  2015-05-01 12:57:19  \n",
       "4  2015-05-01 12:57:19  \n",
       "\n",
       "[5 rows x 25 columns]"
      ]
     },
     "execution_count": 3,
     "metadata": {},
     "output_type": "execute_result"
    }
   ],
   "source": [
    "gtweet_ds1_full.head()"
   ]
  },
  {
   "cell_type": "code",
   "execution_count": 4,
   "metadata": {},
   "outputs": [
    {
     "data": {
      "text/plain": [
       "(1610034, 25)"
      ]
     },
     "execution_count": 4,
     "metadata": {},
     "output_type": "execute_result"
    },
    {
     "data": {
      "text/plain": [
       "(1610034, 25)"
      ]
     },
     "execution_count": 4,
     "metadata": {},
     "output_type": "execute_result"
    }
   ],
   "source": [
    "stweet_ds1_full.shape"
   ]
  },
  {
   "cell_type": "code",
   "execution_count": 5,
   "metadata": {},
   "outputs": [
    {
     "data": {
      "text/plain": [
       "(2839362, 25)"
      ]
     },
     "execution_count": 5,
     "metadata": {},
     "output_type": "execute_result"
    },
    {
     "data": {
      "text/plain": [
       "(2839362, 25)"
      ]
     },
     "execution_count": 5,
     "metadata": {},
     "output_type": "execute_result"
    }
   ],
   "source": [
    "gtweet_ds1_full.shape"
   ]
  },
  {
   "cell_type": "code",
   "execution_count": 6,
   "metadata": {},
   "outputs": [],
   "source": [
    "# import missingno \n",
    "import missingno as msno\n",
    "%matplotlib inline"
   ]
  },
  {
   "cell_type": "code",
   "execution_count": 7,
   "metadata": {},
   "outputs": [
    {
     "data": {
      "text/plain": [
       "<matplotlib.axes._subplots.AxesSubplot at 0x10d5ff198>"
      ]
     },
     "execution_count": 7,
     "metadata": {},
     "output_type": "execute_result"
    },
    {
     "data": {
      "text/plain": [
       "<matplotlib.axes._subplots.AxesSubplot at 0x10d5ff198>"
      ]
     },
     "execution_count": 7,
     "metadata": {},
     "output_type": "execute_result"
    },
    {
     "data": {
      "image/png": "[encoded data removed]",
      "text/plain": [
       "<Figure size 1800x720 with 2 Axes>"
      ]
     },
     "metadata": {},
     "output_type": "display_data"
    },
    {
     "data": {
      "image/png": "[encoded data removed]",
      "text/plain": [
       "<Figure size 1800x720 with 2 Axes>"
      ]
     },
     "metadata": {},
     "output_type": "display_data"
    }
   ],
   "source": [
    "msno.matrix(gtweet_ds1_full)"
   ]
  },
  {
   "cell_type": "code",
   "execution_count": 8,
   "metadata": {},
   "outputs": [
    {
     "data": {
      "text/plain": [
       "<matplotlib.axes._subplots.AxesSubplot at 0x16ba147b8>"
      ]
     },
     "execution_count": 8,
     "metadata": {},
     "output_type": "execute_result"
    },
    {
     "data": {
      "text/plain": [
       "<matplotlib.axes._subplots.AxesSubplot at 0x16ba147b8>"
      ]
     },
     "execution_count": 8,
     "metadata": {},
     "output_type": "execute_result"
    },
    {
     "data": {
      "image/png": "[encoded data removed]",
      "text/plain": [
       "<Figure size 1800x720 with 2 Axes>"
      ]
     },
     "metadata": {},
     "output_type": "display_data"
    },
    {
     "data": {
      "image/png": "[encoded data removed]",
      "text/plain": [
       "<Figure size 1800x720 with 2 Axes>"
      ]
     },
     "metadata": {},
     "output_type": "display_data"
    }
   ],
   "source": [
    "msno.matrix(stweet_ds1_full)"
   ]
  },
  {
   "cell_type": "code",
   "execution_count": 9,
   "metadata": {},
   "outputs": [
    {
     "data": {
      "text/plain": [
       "(1610034, 25)"
      ]
     },
     "execution_count": 9,
     "metadata": {},
     "output_type": "execute_result"
    },
    {
     "data": {
      "text/plain": [
       "(1610034, 25)"
      ]
     },
     "execution_count": 9,
     "metadata": {},
     "output_type": "execute_result"
    }
   ],
   "source": [
    "stweet_ds1_full.shape"
   ]
  },
  {
   "cell_type": "code",
   "execution_count": 10,
   "metadata": {},
   "outputs": [
    {
     "data": {
      "text/plain": [
       "(2839362, 25)"
      ]
     },
     "execution_count": 10,
     "metadata": {},
     "output_type": "execute_result"
    },
    {
     "data": {
      "text/plain": [
       "(2839362, 25)"
      ]
     },
     "execution_count": 10,
     "metadata": {},
     "output_type": "execute_result"
    }
   ],
   "source": [
    "gtweet_ds1_full.shape"
   ]
  },
  {
   "cell_type": "code",
   "execution_count": 11,
   "metadata": {},
   "outputs": [
    {
     "data": {
      "text/plain": [
       "id                         False\n",
       "text                        True\n",
       "source                     False\n",
       "user_id                    False\n",
       "truncated                   True\n",
       "in_reply_to_status_id      False\n",
       "in_reply_to_user_id        False\n",
       "in_reply_to_screen_name     True\n",
       "retweeted_status_id        False\n",
       "geo                         True\n",
       "place                       True\n",
       "contributors                True\n",
       "retweet_count              False\n",
       "reply_count                False\n",
       "favorite_count             False\n",
       "favorited                   True\n",
       "retweeted                   True\n",
       "possibly_sensitive          True\n",
       "num_hashtags               False\n",
       "num_urls                   False\n",
       "num_mentions               False\n",
       "created_at                 False\n",
       "timestamp                  False\n",
       "crawled_at                 False\n",
       "updated                    False\n",
       "dtype: bool"
      ]
     },
     "execution_count": 11,
     "metadata": {},
     "output_type": "execute_result"
    },
    {
     "data": {
      "text/plain": [
       "id                         False\n",
       "text                        True\n",
       "source                     False\n",
       "user_id                    False\n",
       "truncated                   True\n",
       "in_reply_to_status_id      False\n",
       "in_reply_to_user_id        False\n",
       "in_reply_to_screen_name     True\n",
       "retweeted_status_id        False\n",
       "geo                         True\n",
       "place                       True\n",
       "contributors                True\n",
       "retweet_count              False\n",
       "reply_count                False\n",
       "favorite_count             False\n",
       "favorited                   True\n",
       "retweeted                   True\n",
       "possibly_sensitive          True\n",
       "num_hashtags               False\n",
       "num_urls                   False\n",
       "num_mentions               False\n",
       "created_at                 False\n",
       "timestamp                  False\n",
       "crawled_at                 False\n",
       "updated                    False\n",
       "dtype: bool"
      ]
     },
     "execution_count": 11,
     "metadata": {},
     "output_type": "execute_result"
    }
   ],
   "source": [
    "stweet_ds1_full.isnull().any()"
   ]
  },
  {
   "cell_type": "code",
   "execution_count": 12,
   "metadata": {},
   "outputs": [
    {
     "data": {
      "text/plain": [
       "id                         False\n",
       "text                        True\n",
       "source                      True\n",
       "user_id                     True\n",
       "truncated                   True\n",
       "in_reply_to_status_id       True\n",
       "in_reply_to_user_id         True\n",
       "in_reply_to_screen_name     True\n",
       "retweeted_status_id         True\n",
       "geo                         True\n",
       "place                       True\n",
       "contributors                True\n",
       "retweet_count               True\n",
       "reply_count                 True\n",
       "favorite_count              True\n",
       "favorited                   True\n",
       "retweeted                   True\n",
       "possibly_sensitive          True\n",
       "num_hashtags                True\n",
       "num_urls                    True\n",
       "num_mentions                True\n",
       "created_at                  True\n",
       "timestamp                   True\n",
       "crawled_at                  True\n",
       "updated                     True\n",
       "dtype: bool"
      ]
     },
     "execution_count": 12,
     "metadata": {},
     "output_type": "execute_result"
    },
    {
     "data": {
      "text/plain": [
       "id                         False\n",
       "text                        True\n",
       "source                      True\n",
       "user_id                     True\n",
       "truncated                   True\n",
       "in_reply_to_status_id       True\n",
       "in_reply_to_user_id         True\n",
       "in_reply_to_screen_name     True\n",
       "retweeted_status_id         True\n",
       "geo                         True\n",
       "place                       True\n",
       "contributors                True\n",
       "retweet_count               True\n",
       "reply_count                 True\n",
       "favorite_count              True\n",
       "favorited                   True\n",
       "retweeted                   True\n",
       "possibly_sensitive          True\n",
       "num_hashtags                True\n",
       "num_urls                    True\n",
       "num_mentions                True\n",
       "created_at                  True\n",
       "timestamp                   True\n",
       "crawled_at                  True\n",
       "updated                     True\n",
       "dtype: bool"
      ]
     },
     "execution_count": 12,
     "metadata": {},
     "output_type": "execute_result"
    }
   ],
   "source": [
    "gtweet_ds1_full.isnull().any()"
   ]
  },
  {
   "cell_type": "code",
   "execution_count": 13,
   "metadata": {},
   "outputs": [
    {
     "data": {
      "text/plain": [
       "Index(['id', 'text', 'source', 'user_id', 'truncated', 'in_reply_to_status_id',\n",
       "       'in_reply_to_user_id', 'in_reply_to_screen_name', 'retweeted_status_id',\n",
       "       'geo', 'place', 'contributors', 'retweet_count', 'reply_count',\n",
       "       'favorite_count', 'favorited', 'retweeted', 'possibly_sensitive',\n",
       "       'num_hashtags', 'num_urls', 'num_mentions', 'created_at', 'timestamp',\n",
       "       'crawled_at', 'updated'],\n",
       "      dtype='object')"
      ]
     },
     "execution_count": 13,
     "metadata": {},
     "output_type": "execute_result"
    },
    {
     "data": {
      "text/plain": [
       "Index(['id', 'text', 'source', 'user_id', 'truncated', 'in_reply_to_status_id',\n",
       "       'in_reply_to_user_id', 'in_reply_to_screen_name', 'retweeted_status_id',\n",
       "       'geo', 'place', 'contributors', 'retweet_count', 'reply_count',\n",
       "       'favorite_count', 'favorited', 'retweeted', 'possibly_sensitive',\n",
       "       'num_hashtags', 'num_urls', 'num_mentions', 'created_at', 'timestamp',\n",
       "       'crawled_at', 'updated'],\n",
       "      dtype='object')"
      ]
     },
     "execution_count": 13,
     "metadata": {},
     "output_type": "execute_result"
    }
   ],
   "source": [
    "stweet_ds1_full.columns"
   ]
  },
  {
   "cell_type": "code",
   "execution_count": 14,
   "metadata": {},
   "outputs": [],
   "source": [
    "stweet_ds1_full1 = stweet_ds1_full.drop(columns=['truncated','in_reply_to_screen_name','geo','place','contributors','favorited','retweeted','possibly_sensitive'])"
   ]
  },
  {
   "cell_type": "code",
   "execution_count": 15,
   "metadata": {},
   "outputs": [
    {
     "data": {
      "text/plain": [
       "Index(['id', 'text', 'source', 'user_id', 'in_reply_to_status_id',\n",
       "       'in_reply_to_user_id', 'retweeted_status_id', 'retweet_count',\n",
       "       'reply_count', 'favorite_count', 'num_hashtags', 'num_urls',\n",
       "       'num_mentions', 'created_at', 'timestamp', 'crawled_at', 'updated'],\n",
       "      dtype='object')"
      ]
     },
     "execution_count": 15,
     "metadata": {},
     "output_type": "execute_result"
    },
    {
     "data": {
      "text/plain": [
       "Index(['id', 'text', 'source', 'user_id', 'in_reply_to_status_id',\n",
       "       'in_reply_to_user_id', 'retweeted_status_id', 'retweet_count',\n",
       "       'reply_count', 'favorite_count', 'num_hashtags', 'num_urls',\n",
       "       'num_mentions', 'created_at', 'timestamp', 'crawled_at', 'updated'],\n",
       "      dtype='object')"
      ]
     },
     "execution_count": 15,
     "metadata": {},
     "output_type": "execute_result"
    }
   ],
   "source": [
    "stweet_ds1_full1.columns"
   ]
  },
  {
   "cell_type": "code",
   "execution_count": 16,
   "metadata": {},
   "outputs": [
    {
     "data": {
      "text/plain": [
       "Index(['id', 'text', 'source', 'user_id', 'truncated', 'in_reply_to_status_id',\n",
       "       'in_reply_to_user_id', 'in_reply_to_screen_name', 'retweeted_status_id',\n",
       "       'geo', 'place', 'contributors', 'retweet_count', 'reply_count',\n",
       "       'favorite_count', 'favorited', 'retweeted', 'possibly_sensitive',\n",
       "       'num_hashtags', 'num_urls', 'num_mentions', 'created_at', 'timestamp',\n",
       "       'crawled_at', 'updated'],\n",
       "      dtype='object')"
      ]
     },
     "execution_count": 16,
     "metadata": {},
     "output_type": "execute_result"
    },
    {
     "data": {
      "text/plain": [
       "Index(['id', 'text', 'source', 'user_id', 'truncated', 'in_reply_to_status_id',\n",
       "       'in_reply_to_user_id', 'in_reply_to_screen_name', 'retweeted_status_id',\n",
       "       'geo', 'place', 'contributors', 'retweet_count', 'reply_count',\n",
       "       'favorite_count', 'favorited', 'retweeted', 'possibly_sensitive',\n",
       "       'num_hashtags', 'num_urls', 'num_mentions', 'created_at', 'timestamp',\n",
       "       'crawled_at', 'updated'],\n",
       "      dtype='object')"
      ]
     },
     "execution_count": 16,
     "metadata": {},
     "output_type": "execute_result"
    }
   ],
   "source": [
    "gtweet_ds1_full.columns"
   ]
  },
  {
   "cell_type": "code",
   "execution_count": 17,
   "metadata": {},
   "outputs": [],
   "source": [
    "gtweet_ds1_full1 = gtweet_ds1_full.drop(columns=['truncated','in_reply_to_screen_name','geo','place','contributors','favorited','retweeted','possibly_sensitive'])"
   ]
  },
  {
   "cell_type": "code",
   "execution_count": 18,
   "metadata": {},
   "outputs": [
    {
     "data": {
      "text/plain": [
       "Index(['id', 'text', 'source', 'user_id', 'in_reply_to_status_id',\n",
       "       'in_reply_to_user_id', 'retweeted_status_id', 'retweet_count',\n",
       "       'reply_count', 'favorite_count', 'num_hashtags', 'num_urls',\n",
       "       'num_mentions', 'created_at', 'timestamp', 'crawled_at', 'updated'],\n",
       "      dtype='object')"
      ]
     },
     "execution_count": 18,
     "metadata": {},
     "output_type": "execute_result"
    },
    {
     "data": {
      "text/plain": [
       "Index(['id', 'text', 'source', 'user_id', 'in_reply_to_status_id',\n",
       "       'in_reply_to_user_id', 'retweeted_status_id', 'retweet_count',\n",
       "       'reply_count', 'favorite_count', 'num_hashtags', 'num_urls',\n",
       "       'num_mentions', 'created_at', 'timestamp', 'crawled_at', 'updated'],\n",
       "      dtype='object')"
      ]
     },
     "execution_count": 18,
     "metadata": {},
     "output_type": "execute_result"
    }
   ],
   "source": [
    "gtweet_ds1_full1.columns"
   ]
  },
  {
   "cell_type": "code",
   "execution_count": 19,
   "metadata": {},
   "outputs": [
    {
     "data": {
      "text/plain": [
       "id                         False\n",
       "text                        True\n",
       "source                     False\n",
       "user_id                    False\n",
       "truncated                   True\n",
       "in_reply_to_status_id      False\n",
       "in_reply_to_user_id        False\n",
       "in_reply_to_screen_name     True\n",
       "retweeted_status_id        False\n",
       "geo                         True\n",
       "place                       True\n",
       "contributors                True\n",
       "retweet_count              False\n",
       "reply_count                False\n",
       "favorite_count             False\n",
       "favorited                   True\n",
       "retweeted                   True\n",
       "possibly_sensitive          True\n",
       "num_hashtags               False\n",
       "num_urls                   False\n",
       "num_mentions               False\n",
       "created_at                 False\n",
       "timestamp                  False\n",
       "crawled_at                 False\n",
       "updated                    False\n",
       "dtype: bool"
      ]
     },
     "execution_count": 19,
     "metadata": {},
     "output_type": "execute_result"
    },
    {
     "data": {
      "text/plain": [
       "id                         False\n",
       "text                        True\n",
       "source                     False\n",
       "user_id                    False\n",
       "truncated                   True\n",
       "in_reply_to_status_id      False\n",
       "in_reply_to_user_id        False\n",
       "in_reply_to_screen_name     True\n",
       "retweeted_status_id        False\n",
       "geo                         True\n",
       "place                       True\n",
       "contributors                True\n",
       "retweet_count              False\n",
       "reply_count                False\n",
       "favorite_count             False\n",
       "favorited                   True\n",
       "retweeted                   True\n",
       "possibly_sensitive          True\n",
       "num_hashtags               False\n",
       "num_urls                   False\n",
       "num_mentions               False\n",
       "created_at                 False\n",
       "timestamp                  False\n",
       "crawled_at                 False\n",
       "updated                    False\n",
       "dtype: bool"
      ]
     },
     "execution_count": 19,
     "metadata": {},
     "output_type": "execute_result"
    }
   ],
   "source": [
    "stweet_ds1_full.isnull().any()"
   ]
  },
  {
   "cell_type": "code",
   "execution_count": 20,
   "metadata": {},
   "outputs": [
    {
     "data": {
      "text/plain": [
       "id                         False\n",
       "text                        True\n",
       "source                      True\n",
       "user_id                     True\n",
       "truncated                   True\n",
       "in_reply_to_status_id       True\n",
       "in_reply_to_user_id         True\n",
       "in_reply_to_screen_name     True\n",
       "retweeted_status_id         True\n",
       "geo                         True\n",
       "place                       True\n",
       "contributors                True\n",
       "retweet_count               True\n",
       "reply_count                 True\n",
       "favorite_count              True\n",
       "favorited                   True\n",
       "retweeted                   True\n",
       "possibly_sensitive          True\n",
       "num_hashtags                True\n",
       "num_urls                    True\n",
       "num_mentions                True\n",
       "created_at                  True\n",
       "timestamp                   True\n",
       "crawled_at                  True\n",
       "updated                     True\n",
       "dtype: bool"
      ]
     },
     "execution_count": 20,
     "metadata": {},
     "output_type": "execute_result"
    },
    {
     "data": {
      "text/plain": [
       "id                         False\n",
       "text                        True\n",
       "source                      True\n",
       "user_id                     True\n",
       "truncated                   True\n",
       "in_reply_to_status_id       True\n",
       "in_reply_to_user_id         True\n",
       "in_reply_to_screen_name     True\n",
       "retweeted_status_id         True\n",
       "geo                         True\n",
       "place                       True\n",
       "contributors                True\n",
       "retweet_count               True\n",
       "reply_count                 True\n",
       "favorite_count              True\n",
       "favorited                   True\n",
       "retweeted                   True\n",
       "possibly_sensitive          True\n",
       "num_hashtags                True\n",
       "num_urls                    True\n",
       "num_mentions                True\n",
       "created_at                  True\n",
       "timestamp                   True\n",
       "crawled_at                  True\n",
       "updated                     True\n",
       "dtype: bool"
      ]
     },
     "execution_count": 20,
     "metadata": {},
     "output_type": "execute_result"
    }
   ],
   "source": [
    "gtweet_ds1_full.isnull().any()"
   ]
  },
  {
   "cell_type": "code",
   "execution_count": 21,
   "metadata": {},
   "outputs": [],
   "source": [
    "sdata = stweet_ds1_full1[~stweet_ds1_full1.isnull().any(axis=1)]"
   ]
  },
  {
   "cell_type": "code",
   "execution_count": 22,
   "metadata": {},
   "outputs": [
    {
     "data": {
      "text/plain": [
       "<matplotlib.axes._subplots.AxesSubplot at 0x1452c8358>"
      ]
     },
     "execution_count": 22,
     "metadata": {},
     "output_type": "execute_result"
    },
    {
     "data": {
      "text/plain": [
       "<matplotlib.axes._subplots.AxesSubplot at 0x1452c8358>"
      ]
     },
     "execution_count": 22,
     "metadata": {},
     "output_type": "execute_result"
    },
    {
     "data": {
      "image/png": "[encoded data removed]",
      "text/plain": [
       "<Figure size 1800x720 with 2 Axes>"
      ]
     },
     "metadata": {},
     "output_type": "display_data"
    },
    {
     "data": {
      "image/png": "[encoded data removed]",
      "text/plain": [
       "<Figure size 1800x720 with 2 Axes>"
      ]
     },
     "metadata": {},
     "output_type": "display_data"
    }
   ],
   "source": [
    "msno.matrix(sdata)"
   ]
  },
  {
   "cell_type": "code",
   "execution_count": 23,
   "metadata": {},
   "outputs": [],
   "source": [
    "gdata = gtweet_ds1_full1[~gtweet_ds1_full1.isnull().any(axis=1)]"
   ]
  },
  {
   "cell_type": "code",
   "execution_count": 24,
   "metadata": {},
   "outputs": [
    {
     "data": {
      "text/plain": [
       "<matplotlib.axes._subplots.AxesSubplot at 0x1697b8d68>"
      ]
     },
     "execution_count": 24,
     "metadata": {},
     "output_type": "execute_result"
    },
    {
     "data": {
      "text/plain": [
       "<matplotlib.axes._subplots.AxesSubplot at 0x1697b8d68>"
      ]
     },
     "execution_count": 24,
     "metadata": {},
     "output_type": "execute_result"
    },
    {
     "data": {
      "image/png": "[encoded data removed]",
      "text/plain": [
       "<Figure size 1800x720 with 2 Axes>"
      ]
     },
     "metadata": {},
     "output_type": "display_data"
    },
    {
     "data": {
      "image/png": "[encoded data removed]",
      "text/plain": [
       "<Figure size 1800x720 with 2 Axes>"
      ]
     },
     "metadata": {},
     "output_type": "display_data"
    }
   ],
   "source": [
    "msno.matrix(gdata)"
   ]
  },
  {
   "cell_type": "code",
   "execution_count": 25,
   "metadata": {},
   "outputs": [
    {
     "data": {
      "text/plain": [
       "(1609944, 17)"
      ]
     },
     "execution_count": 25,
     "metadata": {},
     "output_type": "execute_result"
    },
    {
     "data": {
      "text/plain": [
       "(1609944, 17)"
      ]
     },
     "execution_count": 25,
     "metadata": {},
     "output_type": "execute_result"
    }
   ],
   "source": [
    "sdata.shape"
   ]
  },
  {
   "cell_type": "code",
   "execution_count": 26,
   "metadata": {},
   "outputs": [
    {
     "data": {
      "text/plain": [
       "(2826718, 17)"
      ]
     },
     "execution_count": 26,
     "metadata": {},
     "output_type": "execute_result"
    },
    {
     "data": {
      "text/plain": [
       "(2826718, 17)"
      ]
     },
     "execution_count": 26,
     "metadata": {},
     "output_type": "execute_result"
    }
   ],
   "source": [
    "gdata.shape"
   ]
  },
  {
   "cell_type": "code",
   "execution_count": 27,
   "metadata": {},
   "outputs": [
    {
     "data": {
      "text/plain": [
       "id                       False\n",
       "text                     False\n",
       "source                   False\n",
       "user_id                  False\n",
       "in_reply_to_status_id    False\n",
       "in_reply_to_user_id      False\n",
       "retweeted_status_id      False\n",
       "retweet_count            False\n",
       "reply_count              False\n",
       "favorite_count           False\n",
       "num_hashtags             False\n",
       "num_urls                 False\n",
       "num_mentions             False\n",
       "created_at               False\n",
       "timestamp                False\n",
       "crawled_at               False\n",
       "updated                  False\n",
       "dtype: bool"
      ]
     },
     "execution_count": 27,
     "metadata": {},
     "output_type": "execute_result"
    },
    {
     "data": {
      "text/plain": [
       "id                       False\n",
       "text                     False\n",
       "source                   False\n",
       "user_id                  False\n",
       "in_reply_to_status_id    False\n",
       "in_reply_to_user_id      False\n",
       "retweeted_status_id      False\n",
       "retweet_count            False\n",
       "reply_count              False\n",
       "favorite_count           False\n",
       "num_hashtags             False\n",
       "num_urls                 False\n",
       "num_mentions             False\n",
       "created_at               False\n",
       "timestamp                False\n",
       "crawled_at               False\n",
       "updated                  False\n",
       "dtype: bool"
      ]
     },
     "execution_count": 27,
     "metadata": {},
     "output_type": "execute_result"
    }
   ],
   "source": [
    "sdata.isnull().any()"
   ]
  },
  {
   "cell_type": "code",
   "execution_count": 28,
   "metadata": {},
   "outputs": [
    {
     "data": {
      "text/plain": [
       "id                       False\n",
       "text                     False\n",
       "source                   False\n",
       "user_id                  False\n",
       "in_reply_to_status_id    False\n",
       "in_reply_to_user_id      False\n",
       "retweeted_status_id      False\n",
       "retweet_count            False\n",
       "reply_count              False\n",
       "favorite_count           False\n",
       "num_hashtags             False\n",
       "num_urls                 False\n",
       "num_mentions             False\n",
       "created_at               False\n",
       "timestamp                False\n",
       "crawled_at               False\n",
       "updated                  False\n",
       "dtype: bool"
      ]
     },
     "execution_count": 28,
     "metadata": {},
     "output_type": "execute_result"
    },
    {
     "data": {
      "text/plain": [
       "id                       False\n",
       "text                     False\n",
       "source                   False\n",
       "user_id                  False\n",
       "in_reply_to_status_id    False\n",
       "in_reply_to_user_id      False\n",
       "retweeted_status_id      False\n",
       "retweet_count            False\n",
       "reply_count              False\n",
       "favorite_count           False\n",
       "num_hashtags             False\n",
       "num_urls                 False\n",
       "num_mentions             False\n",
       "created_at               False\n",
       "timestamp                False\n",
       "crawled_at               False\n",
       "updated                  False\n",
       "dtype: bool"
      ]
     },
     "execution_count": 28,
     "metadata": {},
     "output_type": "execute_result"
    }
   ],
   "source": [
    "gdata.isnull().any()"
   ]
  },
  {
   "cell_type": "code",
   "execution_count": 29,
   "metadata": {},
   "outputs": [],
   "source": [
    "stweet_ds1_full = stweet_ds1_full1"
   ]
  },
  {
   "cell_type": "code",
   "execution_count": 30,
   "metadata": {},
   "outputs": [],
   "source": [
    "tweets = stweet_ds1_full[\"text\"]\n",
    "def is_nan(x):\n",
    "    return (x is np.nan or x != x)\n",
    "ref_twts = []\n",
    "indices_to_be_deleted = []\n",
    "for j in range(0, tweets.shape[0]):\n",
    "    if(not is_nan(tweets[j])):\n",
    "        x = tweets[j].split(' ')\n",
    "        str = \"\"\n",
    "        #removing urls and user references from tweets\n",
    "        for i in x:\n",
    "            url1 = \"https:\"\n",
    "            url2 = \"http:\"\n",
    "            mentions= \"@\"\n",
    "            \n",
    "            if (url1 in i) or (url2 in i) or (mentions in i) or (len(i) == i.isdigit()):\n",
    "                continue\n",
    "            else:\n",
    "                valids =\"\"\n",
    "                # to retain just letter in the string     \n",
    "                for character in i:\n",
    "                    if character.isalpha():\n",
    "                        valids += character\n",
    "                str= str+ \" \" + valids\n",
    "        ref_twts.append(str)\n",
    "    else:\n",
    "        indices_to_be_deleted.append(j)\n",
    "            \n",
    "        \n",
    "            "
   ]
  },
  {
   "cell_type": "code",
   "execution_count": 31,
   "metadata": {},
   "outputs": [
    {
     "data": {
      "text/plain": [
       "(1610034, 17)"
      ]
     },
     "execution_count": 31,
     "metadata": {},
     "output_type": "execute_result"
    },
    {
     "data": {
      "text/plain": [
       "(1610034, 17)"
      ]
     },
     "execution_count": 31,
     "metadata": {},
     "output_type": "execute_result"
    }
   ],
   "source": [
    "stweet_ds1_full.shape"
   ]
  },
  {
   "cell_type": "code",
   "execution_count": 32,
   "metadata": {},
   "outputs": [
    {
     "data": {
      "text/plain": [
       "1609944"
      ]
     },
     "execution_count": 32,
     "metadata": {},
     "output_type": "execute_result"
    },
    {
     "data": {
      "text/plain": [
       "1609944"
      ]
     },
     "execution_count": 32,
     "metadata": {},
     "output_type": "execute_result"
    }
   ],
   "source": [
    "len(ref_twts)"
   ]
  },
  {
   "cell_type": "code",
   "execution_count": 33,
   "metadata": {},
   "outputs": [
    {
     "data": {
      "text/plain": [
       "90"
      ]
     },
     "execution_count": 33,
     "metadata": {},
     "output_type": "execute_result"
    },
    {
     "data": {
      "text/plain": [
       "90"
      ]
     },
     "execution_count": 33,
     "metadata": {},
     "output_type": "execute_result"
    }
   ],
   "source": [
    "len(indices_to_be_deleted)"
   ]
  },
  {
   "cell_type": "code",
   "execution_count": 34,
   "metadata": {},
   "outputs": [],
   "source": [
    "# steps to remove empty tweets\n",
    "ref_twts = pd.DataFrame(ref_twts)\n",
    "# getting indices of empty tweets\n",
    "empty_tweet_indices = ref_twts[ref_twts[0] == ''].index\n",
    "ref_twts = pd.DataFrame(ref_twts)\n",
    "desired_indices = [i for i in range(0,ref_twts.shape[0]) if i not in empty_tweet_indices]\n",
    "desired_ref_twts = ref_twts.iloc[desired_indices]\n",
    "\n",
    "# convert dataframe to np array\n",
    "desired_ref_twts = desired_ref_twts.values\n",
    "\n",
    "# convert np array to one deminsional array \n",
    "desired_ref_twts = desired_ref_twts.ravel()"
   ]
  },
  {
   "cell_type": "code",
   "execution_count": 35,
   "metadata": {},
   "outputs": [],
   "source": [
    "# Text preprocessing, tokenizing and filtering of stopwords are all included \n",
    "# in CountVectorizer, which builds a dictionary of features and transforms \n",
    "# documents to feature vectors\n",
    "from sklearn.feature_extraction.text import CountVectorizer\n",
    "from sklearn.feature_extraction.text import CountVectorizer\n",
    "vectorizer = CountVectorizer()\n",
    "X = vectorizer.fit_transform(desired_ref_twts)\n"
   ]
  },
  {
   "cell_type": "code",
   "execution_count": 36,
   "metadata": {
    "scrolled": true
   },
   "outputs": [
    {
     "data": {
      "text/plain": [
       "(1567097, 115218)"
      ]
     },
     "execution_count": 36,
     "metadata": {},
     "output_type": "execute_result"
    },
    {
     "data": {
      "text/plain": [
       "(1567097, 115218)"
      ]
     },
     "execution_count": 36,
     "metadata": {},
     "output_type": "execute_result"
    }
   ],
   "source": [
    "from sklearn.feature_extraction.text import TfidfTransformer\n",
    "tf_transformer = TfidfTransformer(use_idf=False).fit(X)\n",
    "X_tfidf_train_tf = tf_transformer.transform(X)\n",
    "X_tfidf_train_tf.shape"
   ]
  },
  {
   "cell_type": "markdown",
   "metadata": {},
   "source": [
    "# Following the above steps for genuine tweets"
   ]
  },
  {
   "cell_type": "code",
   "execution_count": 37,
   "metadata": {},
   "outputs": [],
   "source": [
    "gtweet_ds1_full = gtweet_ds1_full1"
   ]
  },
  {
   "cell_type": "code",
   "execution_count": 38,
   "metadata": {},
   "outputs": [],
   "source": [
    "gtweets = gtweet_ds1_full[\"text\"]\n",
    "def is_nan(x):\n",
    "    return (x is np.nan or x != x)\n",
    "gref_twts =[]\n",
    "indices_to_be_del = []\n",
    "for j in range(0, gtweets.shape[0]):\n",
    "    if(not is_nan(gtweets[j])):\n",
    "        x = gtweets[j].split(' ')\n",
    "        str = \"\"\n",
    "        #removing urls and user references from tweets\n",
    "        for i in x:\n",
    "            url1 = \"https:\"\n",
    "            url2 = \"http:\"\n",
    "            mentions= \"@\"\n",
    "            \n",
    "            if (url1 in i) or (url2 in i) or (mentions in i) or (len(i) == i.isdigit()):\n",
    "                continue\n",
    "            else:\n",
    "                valids =\"\"\n",
    "                # to retain just letter in the string     \n",
    "                for character in i:\n",
    "                    if character.isalpha():\n",
    "                        valids += character\n",
    "                str= str+ \" \" + valids\n",
    "            \n",
    "        gref_twts.append(str)\n",
    "    else:\n",
    "        indices_to_be_del.append(j)\n",
    "        \n",
    "        "
   ]
  },
  {
   "cell_type": "code",
   "execution_count": 39,
   "metadata": {},
   "outputs": [
    {
     "data": {
      "text/plain": [
       "(2839362,)"
      ]
     },
     "execution_count": 39,
     "metadata": {},
     "output_type": "execute_result"
    },
    {
     "data": {
      "text/plain": [
       "(2839362,)"
      ]
     },
     "execution_count": 39,
     "metadata": {},
     "output_type": "execute_result"
    }
   ],
   "source": [
    "gtweets.shape"
   ]
  },
  {
   "cell_type": "code",
   "execution_count": 40,
   "metadata": {},
   "outputs": [
    {
     "data": {
      "text/plain": [
       "2826790"
      ]
     },
     "execution_count": 40,
     "metadata": {},
     "output_type": "execute_result"
    },
    {
     "data": {
      "text/plain": [
       "2826790"
      ]
     },
     "execution_count": 40,
     "metadata": {},
     "output_type": "execute_result"
    }
   ],
   "source": [
    "len(gref_twts)"
   ]
  },
  {
   "cell_type": "code",
   "execution_count": 41,
   "metadata": {},
   "outputs": [
    {
     "data": {
      "text/plain": [
       "12572"
      ]
     },
     "execution_count": 41,
     "metadata": {},
     "output_type": "execute_result"
    },
    {
     "data": {
      "text/plain": [
       "12572"
      ]
     },
     "execution_count": 41,
     "metadata": {},
     "output_type": "execute_result"
    }
   ],
   "source": [
    "len(indices_to_be_del)"
   ]
  },
  {
   "cell_type": "code",
   "execution_count": 42,
   "metadata": {},
   "outputs": [
    {
     "data": {
      "text/plain": [
       "2839362"
      ]
     },
     "execution_count": 42,
     "metadata": {},
     "output_type": "execute_result"
    },
    {
     "data": {
      "text/plain": [
       "2839362"
      ]
     },
     "execution_count": 42,
     "metadata": {},
     "output_type": "execute_result"
    }
   ],
   "source": [
    "len(indices_to_be_del)+ len(gref_twts)"
   ]
  },
  {
   "cell_type": "code",
   "execution_count": 43,
   "metadata": {},
   "outputs": [],
   "source": [
    "# steps to remove empty tweets\n",
    "gref_twts = pd.DataFrame(gref_twts)\n",
    "# getting indices of empty tweets\n",
    "empty_tweet_indices = gref_twts[gref_twts[0] == ''].index\n",
    "gref_twts = pd.DataFrame(gref_twts)\n",
    "# getting just empty tweets\n",
    "gdesired_indices = [i for i in range(0,gref_twts.shape[0]) if i not in empty_tweet_indices]\n",
    "gdesired_ref_twts = gref_twts.iloc[gdesired_indices]\n",
    "\n",
    "# convert dataframe to np array\n",
    "gdesired_ref_twts = gdesired_ref_twts.values\n",
    "\n",
    "# convert np array to one deminsional array \n",
    "gdesired_ref_twts = gdesired_ref_twts.ravel()"
   ]
  },
  {
   "cell_type": "code",
   "execution_count": 44,
   "metadata": {},
   "outputs": [],
   "source": [
    "# Text preprocessing, tokenizing and filtering of stopwords are all included \n",
    "# in CountVectorizer, which builds a dictionary of features and transforms \n",
    "# documents to feature vectors\n",
    "from sklearn.feature_extraction.text import CountVectorizer\n",
    "from sklearn.feature_extraction.text import CountVectorizer\n",
    "g_vectorizer = CountVectorizer()\n",
    "g_X = g_vectorizer.fit_transform(gdesired_ref_twts)"
   ]
  },
  {
   "cell_type": "code",
   "execution_count": 45,
   "metadata": {},
   "outputs": [
    {
     "data": {
      "text/plain": [
       "(2783924, 811815)"
      ]
     },
     "execution_count": 45,
     "metadata": {},
     "output_type": "execute_result"
    },
    {
     "data": {
      "text/plain": [
       "(2783924, 811815)"
      ]
     },
     "execution_count": 45,
     "metadata": {},
     "output_type": "execute_result"
    }
   ],
   "source": [
    "from sklearn.feature_extraction.text import TfidfTransformer\n",
    "gtf_transformer = TfidfTransformer(use_idf=False).fit(g_X)\n",
    "gX_tfidf_train_tf = gtf_transformer.transform(g_X)\n",
    "gX_tfidf_train_tf.shape"
   ]
  },
  {
   "cell_type": "code",
   "execution_count": 46,
   "metadata": {},
   "outputs": [
    {
     "data": {
      "text/plain": [
       "(1609944, 1)"
      ]
     },
     "execution_count": 46,
     "metadata": {},
     "output_type": "execute_result"
    },
    {
     "data": {
      "text/plain": [
       "(1609944, 1)"
      ]
     },
     "execution_count": 46,
     "metadata": {},
     "output_type": "execute_result"
    }
   ],
   "source": [
    "ref_twts.shape"
   ]
  },
  {
   "cell_type": "code",
   "execution_count": 47,
   "metadata": {},
   "outputs": [
    {
     "data": {
      "text/plain": [
       "(2826790, 1)"
      ]
     },
     "execution_count": 47,
     "metadata": {},
     "output_type": "execute_result"
    },
    {
     "data": {
      "text/plain": [
       "(2826790, 1)"
      ]
     },
     "execution_count": 47,
     "metadata": {},
     "output_type": "execute_result"
    }
   ],
   "source": [
    "gref_twts.shape"
   ]
  },
  {
   "cell_type": "code",
   "execution_count": 48,
   "metadata": {},
   "outputs": [
    {
     "data": {
      "text/plain": [
       "(2783924, 811815)"
      ]
     },
     "execution_count": 48,
     "metadata": {},
     "output_type": "execute_result"
    },
    {
     "data": {
      "text/plain": [
       "(2783924, 811815)"
      ]
     },
     "execution_count": 48,
     "metadata": {},
     "output_type": "execute_result"
    }
   ],
   "source": [
    "gX_tfidf_train_tf.shape"
   ]
  },
  {
   "cell_type": "code",
   "execution_count": 49,
   "metadata": {},
   "outputs": [
    {
     "data": {
      "text/plain": [
       "(1567097, 115218)"
      ]
     },
     "execution_count": 49,
     "metadata": {},
     "output_type": "execute_result"
    },
    {
     "data": {
      "text/plain": [
       "(1567097, 115218)"
      ]
     },
     "execution_count": 49,
     "metadata": {},
     "output_type": "execute_result"
    }
   ],
   "source": [
    "X_tfidf_train_tf.shape"
   ]
  },
  {
   "cell_type": "code",
   "execution_count": 50,
   "metadata": {},
   "outputs": [
    {
     "data": {
      "text/plain": [
       "(1610034, 17)"
      ]
     },
     "execution_count": 50,
     "metadata": {},
     "output_type": "execute_result"
    },
    {
     "data": {
      "text/plain": [
       "(1610034, 17)"
      ]
     },
     "execution_count": 50,
     "metadata": {},
     "output_type": "execute_result"
    }
   ],
   "source": [
    "stweet_ds1_full1.shape"
   ]
  },
  {
   "cell_type": "code",
   "execution_count": 51,
   "metadata": {},
   "outputs": [
    {
     "data": {
      "text/plain": [
       "(2839362, 17)"
      ]
     },
     "execution_count": 51,
     "metadata": {},
     "output_type": "execute_result"
    },
    {
     "data": {
      "text/plain": [
       "(2839362, 17)"
      ]
     },
     "execution_count": 51,
     "metadata": {},
     "output_type": "execute_result"
    }
   ],
   "source": [
    "gtweet_ds1_full.shape"
   ]
  },
  {
   "cell_type": "code",
   "execution_count": 52,
   "metadata": {},
   "outputs": [
    {
     "data": {
      "text/plain": [
       "Index(['id', 'text', 'source', 'user_id', 'in_reply_to_status_id',\n",
       "       'in_reply_to_user_id', 'retweeted_status_id', 'retweet_count',\n",
       "       'reply_count', 'favorite_count', 'num_hashtags', 'num_urls',\n",
       "       'num_mentions', 'created_at', 'timestamp', 'crawled_at', 'updated'],\n",
       "      dtype='object')"
      ]
     },
     "execution_count": 52,
     "metadata": {},
     "output_type": "execute_result"
    },
    {
     "data": {
      "text/plain": [
       "Index(['id', 'text', 'source', 'user_id', 'in_reply_to_status_id',\n",
       "       'in_reply_to_user_id', 'retweeted_status_id', 'retweet_count',\n",
       "       'reply_count', 'favorite_count', 'num_hashtags', 'num_urls',\n",
       "       'num_mentions', 'created_at', 'timestamp', 'crawled_at', 'updated'],\n",
       "      dtype='object')"
      ]
     },
     "execution_count": 52,
     "metadata": {},
     "output_type": "execute_result"
    }
   ],
   "source": [
    "stweet_ds1_full.columns"
   ]
  },
  {
   "cell_type": "code",
   "execution_count": 53,
   "metadata": {},
   "outputs": [
    {
     "data": {
      "text/plain": [
       "Index(['id', 'text', 'source', 'user_id', 'in_reply_to_status_id',\n",
       "       'in_reply_to_user_id', 'retweeted_status_id', 'retweet_count',\n",
       "       'reply_count', 'favorite_count', 'num_hashtags', 'num_urls',\n",
       "       'num_mentions', 'created_at', 'timestamp', 'crawled_at', 'updated'],\n",
       "      dtype='object')"
      ]
     },
     "execution_count": 53,
     "metadata": {},
     "output_type": "execute_result"
    },
    {
     "data": {
      "text/plain": [
       "Index(['id', 'text', 'source', 'user_id', 'in_reply_to_status_id',\n",
       "       'in_reply_to_user_id', 'retweeted_status_id', 'retweet_count',\n",
       "       'reply_count', 'favorite_count', 'num_hashtags', 'num_urls',\n",
       "       'num_mentions', 'created_at', 'timestamp', 'crawled_at', 'updated'],\n",
       "      dtype='object')"
      ]
     },
     "execution_count": 53,
     "metadata": {},
     "output_type": "execute_result"
    }
   ],
   "source": [
    "gtweet_ds1_full.columns"
   ]
  },
  {
   "cell_type": "code",
   "execution_count": 54,
   "metadata": {},
   "outputs": [],
   "source": [
    "s_unwanted_indices = indices_to_be_deleted\n",
    "s_desired_indices = [i for i in range(0,len(stweet_ds1_full)) if i not in s_unwanted_indices]\n",
    "s_desired_rows = stweet_ds1_full[stweet_ds1_full.index.isin(s_desired_indices)]"
   ]
  },
  {
   "cell_type": "code",
   "execution_count": 55,
   "metadata": {},
   "outputs": [],
   "source": [
    "g_unwanted_indices = indices_to_be_del\n",
    "g_desired_indices = [i for i in range(0,len(gtweet_ds1_full)) if i not in g_unwanted_indices]\n",
    "g_desired_rows = gtweet_ds1_full[gtweet_ds1_full.index.isin(g_desired_indices)]"
   ]
  },
  {
   "cell_type": "code",
   "execution_count": 56,
   "metadata": {},
   "outputs": [
    {
     "data": {
      "text/plain": [
       "(1609944, 17)"
      ]
     },
     "execution_count": 56,
     "metadata": {},
     "output_type": "execute_result"
    },
    {
     "data": {
      "text/plain": [
       "(1609944, 17)"
      ]
     },
     "execution_count": 56,
     "metadata": {},
     "output_type": "execute_result"
    }
   ],
   "source": [
    "s_desired_rows.shape"
   ]
  },
  {
   "cell_type": "code",
   "execution_count": 57,
   "metadata": {},
   "outputs": [
    {
     "data": {
      "text/plain": [
       "(2826790, 17)"
      ]
     },
     "execution_count": 57,
     "metadata": {},
     "output_type": "execute_result"
    },
    {
     "data": {
      "text/plain": [
       "(2826790, 17)"
      ]
     },
     "execution_count": 57,
     "metadata": {},
     "output_type": "execute_result"
    }
   ],
   "source": [
    "g_desired_rows.shape"
   ]
  },
  {
   "cell_type": "code",
   "execution_count": 58,
   "metadata": {},
   "outputs": [
    {
     "data": {
      "text/plain": [
       "(1567097, 115218)"
      ]
     },
     "execution_count": 58,
     "metadata": {},
     "output_type": "execute_result"
    },
    {
     "data": {
      "text/plain": [
       "(1567097, 115218)"
      ]
     },
     "execution_count": 58,
     "metadata": {},
     "output_type": "execute_result"
    }
   ],
   "source": [
    "X_tfidf_train_tf.shape"
   ]
  },
  {
   "cell_type": "code",
   "execution_count": 59,
   "metadata": {},
   "outputs": [
    {
     "data": {
      "text/plain": [
       "(2783924, 811815)"
      ]
     },
     "execution_count": 59,
     "metadata": {},
     "output_type": "execute_result"
    },
    {
     "data": {
      "text/plain": [
       "(2783924, 811815)"
      ]
     },
     "execution_count": 59,
     "metadata": {},
     "output_type": "execute_result"
    }
   ],
   "source": [
    "gX_tfidf_train_tf.shape"
   ]
  },
  {
   "cell_type": "code",
   "execution_count": 60,
   "metadata": {},
   "outputs": [
    {
     "data": {
      "text/plain": [
       "scipy.sparse.csr.csr_matrix"
      ]
     },
     "execution_count": 60,
     "metadata": {},
     "output_type": "execute_result"
    },
    {
     "data": {
      "text/plain": [
       "scipy.sparse.csr.csr_matrix"
      ]
     },
     "execution_count": 60,
     "metadata": {},
     "output_type": "execute_result"
    }
   ],
   "source": [
    "type(X_tfidf_train_tf)"
   ]
  },
  {
   "cell_type": "code",
   "execution_count": 61,
   "metadata": {},
   "outputs": [
    {
     "data": {
      "text/plain": [
       "scipy.sparse.csr.csr_matrix"
      ]
     },
     "execution_count": 61,
     "metadata": {},
     "output_type": "execute_result"
    },
    {
     "data": {
      "text/plain": [
       "scipy.sparse.csr.csr_matrix"
      ]
     },
     "execution_count": 61,
     "metadata": {},
     "output_type": "execute_result"
    }
   ],
   "source": [
    "type(gX_tfidf_train_tf)"
   ]
  },
  {
   "cell_type": "code",
   "execution_count": 62,
   "metadata": {},
   "outputs": [],
   "source": [
    "# TruncatedSVD from Scikit-Learn\n",
    "from sklearn.decomposition import TruncatedSVD\n",
    "# StandardScaler from Scikit-Learn\n",
    "from sklearn.preprocessing import StandardScaler\n",
    "\n",
    "svd = TruncatedSVD(n_components=50, n_iter=7, random_state=42)\n",
    "s_svdTFit = svd.fit_transform(X_tfidf_train_tf) "
   ]
  },
  {
   "cell_type": "code",
   "execution_count": 63,
   "metadata": {},
   "outputs": [],
   "source": [
    "bot_ds = pd.DataFrame(s_svdTFit)"
   ]
  },
  {
   "cell_type": "code",
   "execution_count": 64,
   "metadata": {},
   "outputs": [],
   "source": [
    "svd1 = TruncatedSVD(n_components=50, n_iter=7, random_state=42)\n",
    "g_svdTFit = svd1.fit_transform(gX_tfidf_train_tf) "
   ]
  },
  {
   "cell_type": "code",
   "execution_count": 65,
   "metadata": {},
   "outputs": [],
   "source": [
    "gen_ds = pd.DataFrame(g_svdTFit)"
   ]
  },
  {
   "cell_type": "code",
   "execution_count": 66,
   "metadata": {},
   "outputs": [],
   "source": [
    "# bot_ds['id'] = s_desired_rows['id']\n",
    "# gen_ds['id'] = g_desired_rows['id']"
   ]
  },
  {
   "cell_type": "code",
   "execution_count": 67,
   "metadata": {},
   "outputs": [
    {
     "data": {
      "text/plain": [
       "(1567097, 50)"
      ]
     },
     "execution_count": 67,
     "metadata": {},
     "output_type": "execute_result"
    },
    {
     "data": {
      "text/plain": [
       "(1567097, 50)"
      ]
     },
     "execution_count": 67,
     "metadata": {},
     "output_type": "execute_result"
    }
   ],
   "source": [
    "bot_ds.shape"
   ]
  },
  {
   "cell_type": "code",
   "execution_count": 68,
   "metadata": {},
   "outputs": [
    {
     "data": {
      "text/plain": [
       "(1609944, 17)"
      ]
     },
     "execution_count": 68,
     "metadata": {},
     "output_type": "execute_result"
    },
    {
     "data": {
      "text/plain": [
       "(1609944, 17)"
      ]
     },
     "execution_count": 68,
     "metadata": {},
     "output_type": "execute_result"
    }
   ],
   "source": [
    "s_desired_rows.shape"
   ]
  },
  {
   "cell_type": "code",
   "execution_count": 69,
   "metadata": {},
   "outputs": [
    {
     "data": {
      "text/plain": [
       "(2783924, 50)"
      ]
     },
     "execution_count": 69,
     "metadata": {},
     "output_type": "execute_result"
    },
    {
     "data": {
      "text/plain": [
       "(2783924, 50)"
      ]
     },
     "execution_count": 69,
     "metadata": {},
     "output_type": "execute_result"
    }
   ],
   "source": [
    "gen_ds.shape"
   ]
  },
  {
   "cell_type": "code",
   "execution_count": 70,
   "metadata": {},
   "outputs": [
    {
     "data": {
      "text/plain": [
       "(2826790, 17)"
      ]
     },
     "execution_count": 70,
     "metadata": {},
     "output_type": "execute_result"
    },
    {
     "data": {
      "text/plain": [
       "(2826790, 17)"
      ]
     },
     "execution_count": 70,
     "metadata": {},
     "output_type": "execute_result"
    }
   ],
   "source": [
    "g_desired_rows.shape"
   ]
  },
  {
   "cell_type": "code",
   "execution_count": 71,
   "metadata": {},
   "outputs": [],
   "source": [
    "result_spam_ds = pd.concat([bot_ds, s_desired_rows], axis = 1 )\n",
    "result_gen_ds = pd.concat([gen_ds, g_desired_rows], axis = 1)"
   ]
  },
  {
   "cell_type": "code",
   "execution_count": 72,
   "metadata": {},
   "outputs": [],
   "source": [
    "result_spam_ds['target'] = 1\n",
    "result_gen_ds['target'] = 0"
   ]
  },
  {
   "cell_type": "code",
   "execution_count": 73,
   "metadata": {},
   "outputs": [],
   "source": [
    "dataset= pd.concat([result_spam_ds, result_gen_ds], ignore_index=True)\n",
    "y_ds = dataset['target']\n",
    "dataset = dataset.drop(columns=['target'])"
   ]
  },
  {
   "cell_type": "code",
   "execution_count": 74,
   "metadata": {},
   "outputs": [
    {
     "data": {
      "text/plain": [
       "Index([                      0,                       1,\n",
       "                             2,                       3,\n",
       "                             4,                       5,\n",
       "                             6,                       7,\n",
       "                             8,                       9,\n",
       "                            10,                      11,\n",
       "                            12,                      13,\n",
       "                            14,                      15,\n",
       "                            16,                      17,\n",
       "                            18,                      19,\n",
       "                            20,                      21,\n",
       "                            22,                      23,\n",
       "                            24,                      25,\n",
       "                            26,                      27,\n",
       "                            28,                      29,\n",
       "                            30,                      31,\n",
       "                            32,                      33,\n",
       "                            34,                      35,\n",
       "                            36,                      37,\n",
       "                            38,                      39,\n",
       "                            40,                      41,\n",
       "                            42,                      43,\n",
       "                            44,                      45,\n",
       "                            46,                      47,\n",
       "                            48,                      49,\n",
       "                          'id',                  'text',\n",
       "                      'source',               'user_id',\n",
       "       'in_reply_to_status_id',   'in_reply_to_user_id',\n",
       "         'retweeted_status_id',         'retweet_count',\n",
       "                 'reply_count',        'favorite_count',\n",
       "                'num_hashtags',              'num_urls',\n",
       "                'num_mentions',            'created_at',\n",
       "                   'timestamp',            'crawled_at',\n",
       "                     'updated'],\n",
       "      dtype='object')"
      ]
     },
     "execution_count": 74,
     "metadata": {},
     "output_type": "execute_result"
    },
    {
     "data": {
      "text/plain": [
       "Index([                      0,                       1,\n",
       "                             2,                       3,\n",
       "                             4,                       5,\n",
       "                             6,                       7,\n",
       "                             8,                       9,\n",
       "                            10,                      11,\n",
       "                            12,                      13,\n",
       "                            14,                      15,\n",
       "                            16,                      17,\n",
       "                            18,                      19,\n",
       "                            20,                      21,\n",
       "                            22,                      23,\n",
       "                            24,                      25,\n",
       "                            26,                      27,\n",
       "                            28,                      29,\n",
       "                            30,                      31,\n",
       "                            32,                      33,\n",
       "                            34,                      35,\n",
       "                            36,                      37,\n",
       "                            38,                      39,\n",
       "                            40,                      41,\n",
       "                            42,                      43,\n",
       "                            44,                      45,\n",
       "                            46,                      47,\n",
       "                            48,                      49,\n",
       "                          'id',                  'text',\n",
       "                      'source',               'user_id',\n",
       "       'in_reply_to_status_id',   'in_reply_to_user_id',\n",
       "         'retweeted_status_id',         'retweet_count',\n",
       "                 'reply_count',        'favorite_count',\n",
       "                'num_hashtags',              'num_urls',\n",
       "                'num_mentions',            'created_at',\n",
       "                   'timestamp',            'crawled_at',\n",
       "                     'updated'],\n",
       "      dtype='object')"
      ]
     },
     "execution_count": 74,
     "metadata": {},
     "output_type": "execute_result"
    }
   ],
   "source": [
    "dataset.columns"
   ]
  },
  {
   "cell_type": "code",
   "execution_count": 75,
   "metadata": {},
   "outputs": [
    {
     "data": {
      "text/plain": [
       "(4449050, 67)"
      ]
     },
     "execution_count": 75,
     "metadata": {},
     "output_type": "execute_result"
    },
    {
     "data": {
      "text/plain": [
       "(4449050, 67)"
      ]
     },
     "execution_count": 75,
     "metadata": {},
     "output_type": "execute_result"
    }
   ],
   "source": [
    "dataset.shape"
   ]
  },
  {
   "cell_type": "code",
   "execution_count": 76,
   "metadata": {},
   "outputs": [],
   "source": [
    "# dropping all unwanted columns\n",
    "dataset = dataset.drop(columns =['id','text','source','created_at','timestamp','crawled_at','updated'])\n"
   ]
  },
  {
   "cell_type": "code",
   "execution_count": 77,
   "metadata": {},
   "outputs": [],
   "source": [
    "dataset['target'] = y_ds\n",
    "# cleaning data to remove nan\n",
    "def clean_dataset(df):\n",
    "    assert isinstance(df, pd.DataFrame), \"df needs to be a pd.DataFrame\"\n",
    "    df.dropna(inplace=True)\n",
    "    indices_to_keep = ~df.isin([np.nan, np.inf, -np.inf]).any(1)\n",
    "    return df[indices_to_keep].astype(np.float64)\n",
    "\n",
    "clean_ds = clean_dataset(dataset)"
   ]
  },
  {
   "cell_type": "code",
   "execution_count": 78,
   "metadata": {},
   "outputs": [],
   "source": [
    "from sklearn.model_selection import train_test_split\n",
    "from sklearn.linear_model import LogisticRegression\n",
    "from sklearn.metrics import precision_score, recall_score, confusion_matrix, classification_report,accuracy_score, f1_score\n",
    "\n",
    "y_ds = dataset['target']\n",
    "clean_ds = clean_ds.drop(columns=['target'])\n",
    "x_train, x_test, y_train, y_test = train_test_split(clean_ds, y_ds, test_size=0.33)\n",
    "logisticRegr = LogisticRegression()\n",
    "logisticRegr.fit(x_train, y_train)\n",
    "predictions = logisticRegr.predict(x_test)\n"
   ]
  },
  {
   "cell_type": "code",
   "execution_count": 79,
   "metadata": {},
   "outputs": [
    {
     "name": "stdout",
     "output_type": "stream",
     "text": [
      "Accuracy: 69.21%\n",
      "Accuracy: 69.21%\n",
      "Recall: 69.20712990117846 %\n",
      "Recall: 69.20712990117846 %\n",
      "Precision: 69.20712990117846 %\n",
      "Precision: 69.20712990117846 %\n"
     ]
    }
   ],
   "source": [
    "accuracy = accuracy_score(y_test, predictions)\n",
    "print(\"Accuracy: %.2f%%\" % (accuracy * 100.0))\n",
    "print('Recall:', recall_score(y_test, predictions,average=\"micro\")*100,\"%\")\n",
    "print('Precision:', precision_score(y_test, predictions,average=\"micro\")*100,\"%\")"
   ]
  },
  {
   "cell_type": "code",
   "execution_count": 80,
   "metadata": {},
   "outputs": [],
   "source": [
    "# from sklearn import svm\n",
    "# import math\n",
    "# clf = svm.SVC(gamma=0.01)\n",
    "# clf.fit(x_train, y_train) \n",
    "# predictions = clf.predict(x_test)\n",
    "# accuracy = accuracy_score(y_test, predictions)\n",
    "# print(\"Accuracy: %.2f%%\" % (accuracy * 100.0))\n",
    "# print('Recall:', recall_score(y_test, predictions,average=\"micro\")*100,\"%\")\n",
    "# print('Precision:', precision_score(y_test, predictions,average=\"micro\")*100,\"%\")"
   ]
  },
  {
   "cell_type": "code",
   "execution_count": 82,
   "metadata": {},
   "outputs": [
    {
     "name": "stdout",
     "output_type": "stream",
     "text": [
      "Accuracy: 45.72%\n",
      "Accuracy: 45.72%\n",
      "Recall: 45.71667436108936 %\n",
      "Recall: 45.71667436108936 %\n",
      "Precision: 45.71667436108936 %\n",
      "Precision: 45.71667436108936 %\n"
     ]
    }
   ],
   "source": [
    "from sklearn.neural_network import MLPClassifier\n",
    "clf = MLPClassifier(solver='lbfgs', alpha=1e-5,hidden_layer_sizes=(5, 2), random_state=1)\n",
    "clf.fit(x_train, y_train) \n",
    "predictions = clf.predict(x_test)\n",
    "accuracy = accuracy_score(y_test, predictions)\n",
    "print(\"Accuracy: %.2f%%\" % (accuracy * 100.0))\n",
    "print('Recall:', recall_score(y_test, predictions,average=\"micro\")*100,\"%\")\n",
    "print('Precision:', precision_score(y_test, predictions,average=\"micro\")*100,\"%\")"
   ]
  },
  {
   "cell_type": "code",
   "execution_count": 83,
   "metadata": {},
   "outputs": [
    {
     "name": "stdout",
     "output_type": "stream",
     "text": [
      "Accuracy: 62.64%\n",
      "Accuracy: 62.64%\n",
      "Recall: 62.64051633883304 %\n",
      "Recall: 62.64051633883304 %\n",
      "Precision: 62.64051633883304 %\n",
      "Precision: 62.64051633883304 %\n"
     ]
    }
   ],
   "source": [
    "from sklearn.neural_network import MLPClassifier\n",
    "clf = MLPClassifier(solver='lbfgs', alpha=1e-5,hidden_layer_sizes=(25, 2), random_state=1)\n",
    "clf.fit(x_train, y_train) \n",
    "predictions = clf.predict(x_test)\n",
    "accuracy = accuracy_score(y_test, predictions)\n",
    "print(\"Accuracy: %.2f%%\" % (accuracy * 100.0))\n",
    "print('Recall:', recall_score(y_test, predictions,average=\"micro\")*100,\"%\")\n",
    "print('Precision:', precision_score(y_test, predictions,average=\"micro\")*100,\"%\")"
   ]
  },
  {
   "cell_type": "code",
   "execution_count": 84,
   "metadata": {},
   "outputs": [
    {
     "name": "stdout",
     "output_type": "stream",
     "text": [
      "Accuracy: 53.58%\n",
      "Accuracy: 53.58%\n",
      "Recall: 53.57636999719928 %\n",
      "Recall: 53.57636999719928 %\n",
      "Precision: 53.57636999719928 %\n",
      "Precision: 53.57636999719928 %\n"
     ]
    }
   ],
   "source": [
    "from sklearn.neural_network import MLPClassifier\n",
    "clf = MLPClassifier(solver='lbfgs', alpha=1e-5,hidden_layer_sizes=(50, 2), random_state=1)\n",
    "clf.fit(x_train, y_train) \n",
    "predictions = clf.predict(x_test)\n",
    "accuracy = accuracy_score(y_test, predictions)\n",
    "print(\"Accuracy: %.2f%%\" % (accuracy * 100.0))\n",
    "print('Recall:', recall_score(y_test, predictions,average=\"micro\")*100,\"%\")\n",
    "print('Precision:', precision_score(y_test, predictions,average=\"micro\")*100,\"%\")"
   ]
  },
  {
   "cell_type": "code",
   "execution_count": 85,
   "metadata": {},
   "outputs": [
    {
     "name": "stdout",
     "output_type": "stream",
     "text": [
      "Accuracy: 63.86%\n",
      "Accuracy: 63.86%\n",
      "Recall: 63.861240573750166 %\n",
      "Recall: 63.861240573750166 %\n",
      "Precision: 63.861240573750166 %\n",
      "Precision: 63.861240573750166 %\n"
     ]
    }
   ],
   "source": [
    "from sklearn.neural_network import MLPClassifier\n",
    "clf = MLPClassifier(solver='lbfgs', alpha=1e-5,hidden_layer_sizes=(100, 2), random_state=1)\n",
    "clf.fit(x_train, y_train) \n",
    "predictions = clf.predict(x_test)\n",
    "accuracy = accuracy_score(y_test, predictions)\n",
    "print(\"Accuracy: %.2f%%\" % (accuracy * 100.0))\n",
    "print('Recall:', recall_score(y_test, predictions,average=\"micro\")*100,\"%\")\n",
    "print('Precision:', precision_score(y_test, predictions,average=\"micro\")*100,\"%\")"
   ]
  },
  {
   "cell_type": "code",
   "execution_count": 81,
   "metadata": {},
   "outputs": [
    {
     "name": "stdout",
     "output_type": "stream",
     "text": [
      "Accuracy: 89.25%\n",
      "Accuracy: 89.25%\n",
      "Recall: 89.2545117137982 %\n",
      "Recall: 89.2545117137982 %\n",
      "Precision: 89.2545117137982 %\n",
      "Precision: 89.2545117137982 %\n"
     ]
    }
   ],
   "source": [
    "from sklearn.ensemble import RandomForestClassifier\n",
    "from sklearn.datasets import make_classification\n",
    "clf = RandomForestClassifier(n_estimators=100, max_depth=2,random_state=0)\n",
    "clf.fit(x_train, y_train) \n",
    "predictions = clf.predict(x_test)\n",
    "accuracy = accuracy_score(y_test, predictions)\n",
    "print(\"Accuracy: %.2f%%\" % (accuracy * 100.0))\n",
    "print('Recall:', recall_score(y_test, predictions,average=\"micro\")*100,\"%\")\n",
    "print('Precision:', precision_score(y_test, predictions,average=\"micro\")*100,\"%\")"
   ]
  },
  {
   "cell_type": "code",
   "execution_count": 86,
   "metadata": {},
   "outputs": [
    {
     "name": "stdout",
     "output_type": "stream",
     "text": [
      "Accuracy: 88.26%\n",
      "Accuracy: 88.26%\n",
      "Recall: 88.2643407858648 %\n",
      "Recall: 88.2643407858648 %\n",
      "Precision: 88.2643407858648 %\n",
      "Precision: 88.2643407858648 %\n"
     ]
    }
   ],
   "source": [
    "from sklearn.ensemble import RandomForestClassifier\n",
    "from sklearn.datasets import make_classification\n",
    "clf = RandomForestClassifier(n_estimators=200, max_depth=2,random_state=0)\n",
    "clf.fit(x_train, y_train) \n",
    "predictions = clf.predict(x_test)\n",
    "accuracy = accuracy_score(y_test, predictions)\n",
    "print(\"Accuracy: %.2f%%\" % (accuracy * 100.0))\n",
    "print('Recall:', recall_score(y_test, predictions,average=\"micro\")*100,\"%\")\n",
    "print('Precision:', precision_score(y_test, predictions,average=\"micro\")*100,\"%\")"
   ]
  }
 ],
 "metadata": {
  "kernelspec": {
   "display_name": "Python 3",
   "language": "python",
   "name": "python3"
  },
  "language_info": {
   "codemirror_mode": {
    "name": "ipython",
    "version": 3
   },
   "file_extension": ".py",
   "mimetype": "text/x-python",
   "name": "python",
   "nbconvert_exporter": "python",
   "pygments_lexer": "ipython3",
   "version": "3.6.5"
  }
 },
 "nbformat": 4,
 "nbformat_minor": 2
}
